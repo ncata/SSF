{
 "cells": [
  {
   "cell_type": "markdown",
   "id": "420be7b7",
   "metadata": {},
   "source": [
    "# Code to prepare data for use in an OWG"
   ]
  },
  {
   "cell_type": "markdown",
   "id": "6821291c",
   "metadata": {},
   "source": [
    "## Resize images and write to a seperate folder"
   ]
  },
  {
   "cell_type": "code",
   "execution_count": 47,
   "id": "c596ebea",
   "metadata": {},
   "outputs": [],
   "source": [
    "import os\n",
    "import shutil\n",
    "from PIL import Image\n",
    "import numpy as np\n",
    "from distutils.dir_util import copy_tree\n",
    "import matplotlib.pyplot as plt\n",
    "import time"
   ]
  },
  {
   "cell_type": "code",
   "execution_count": 6,
   "id": "99eabd26",
   "metadata": {},
   "outputs": [],
   "source": [
    "def estimate_sharpness(img): \n",
    "    \"\"\"\n",
    "    Estimate image sharpness \n",
    "    Input:\n",
    "        img - np.ndarray representing image\n",
    "              img read as skimage.io.imread( 'imagefilename.jpg' )\n",
    "    Returns:\n",
    "        s - sharpness estimates\n",
    "\n",
    "    adapted from https://stackoverflow.com/questions/6646371/detect-which-image-is-sharper\n",
    "    \"\"\"\n",
    "    gy, gx = np.gradient(img)\n",
    "    gnorm = np.sqrt(gx**2 + gy**2)\n",
    "    sharpness = np.average(gnorm)\n",
    "    return sharpness\n",
    "# edited to remove the part where they convert to grayscale as my images already are grayscale. Removed contrast because I do not need it"
   ]
  },
  {
   "cell_type": "code",
   "execution_count": 3,
   "id": "e814e1a4",
   "metadata": {},
   "outputs": [],
   "source": [
    "# create new folder\n",
    "newpath = \"D:/Webcam Images/MI City/2017_imgprep\"\n",
    "#os.mkdir(newpath)"
   ]
  },
  {
   "cell_type": "code",
   "execution_count": 4,
   "id": "301385db",
   "metadata": {},
   "outputs": [
    {
     "ename": "AttributeError",
     "evalue": "module 'shutil' has no attribute 'copy_tree'",
     "output_type": "error",
     "traceback": [
      "\u001b[1;31m---------------------------------------------------------------------------\u001b[0m",
      "\u001b[1;31mAttributeError\u001b[0m                            Traceback (most recent call last)",
      "\u001b[1;32m<ipython-input-4-348680847c3a>\u001b[0m in \u001b[0;36m<module>\u001b[1;34m\u001b[0m\n\u001b[0;32m      1\u001b[0m \u001b[0mfromDirectory\u001b[0m \u001b[1;33m=\u001b[0m \u001b[1;34m\"D:/Webcam Images/MI City/2017\"\u001b[0m\u001b[1;33m\u001b[0m\u001b[1;33m\u001b[0m\u001b[0m\n\u001b[0;32m      2\u001b[0m \u001b[0mtoDirectory\u001b[0m \u001b[1;33m=\u001b[0m \u001b[1;34m\"D:/Webcam Images/MI City/2017_imgprep\"\u001b[0m\u001b[1;33m\u001b[0m\u001b[1;33m\u001b[0m\u001b[0m\n\u001b[1;32m----> 3\u001b[1;33m \u001b[0mshutil\u001b[0m\u001b[1;33m.\u001b[0m\u001b[0mcopy_tree\u001b[0m\u001b[1;33m(\u001b[0m\u001b[0mfromDirectory\u001b[0m\u001b[1;33m,\u001b[0m \u001b[0mtoDirectory\u001b[0m\u001b[1;33m)\u001b[0m\u001b[1;33m\u001b[0m\u001b[1;33m\u001b[0m\u001b[0m\n\u001b[0m",
      "\u001b[1;31mAttributeError\u001b[0m: module 'shutil' has no attribute 'copy_tree'"
     ]
    }
   ],
   "source": [
    "fromDirectory = \"D:/Webcam Images/MI City/2017\"\n",
    "toDirectory = \"D:/Webcam Images/MI City/2017_imgprep\"\n",
    "shutil.copy_tree(fromDirectory, toDirectory)"
   ]
  },
  {
   "cell_type": "code",
   "execution_count": null,
   "id": "33d39c19",
   "metadata": {},
   "outputs": [],
   "source": [
    "# create seperate folders for different views\n",
    "view1path = \"D:/Webcam Images/MI City/2017_imgprep/view1\"\n",
    "view2path = \"D:/Webcam Images/MI City/2017_imgprep/view2\"\n",
    "os.mkdir(view1path)\n",
    "os.mkdir(view2path)"
   ]
  },
  {
   "cell_type": "code",
   "execution_count": null,
   "id": "65f77e5f",
   "metadata": {},
   "outputs": [],
   "source": [
    "# move images to correct folders and remove the view identifier\n",
    "for filename in os.listdir(newpath):\n",
    "    if filename.endswith(\".01.jpg\"):\n",
    "        os.rename(\"D:/Webcam Images/MI City/2017_imgprep/{}\".format(filename),\"D:/Webcam Images/MI City/2017_imgprep/view1/{}\".format(filename.replace(\".01\",\"\")))\n",
    "    elif filename.endswith(\".02.jpg\"):\n",
    "        os.rename(\"D:/Webcam Images/MI City/2017_imgprep/{}\".format(filename),\"D:/Webcam Images/MI City/2017_imgprep/view2/{}\".format(filename.replace(\".02\",\"\")))"
   ]
  },
  {
   "cell_type": "code",
   "execution_count": null,
   "id": "f1448407",
   "metadata": {
    "scrolled": true
   },
   "outputs": [],
   "source": [
    "# crop images to square, convert to grayscale, and reduce resolution to 128x128\n",
    "import matplotlib.pyplot as plt                       \n",
    "import numpy as np\n",
    "from PIL import Image\n",
    "\n",
    "image = Image.open(\"C:/njc/src/mcyimgs/2019/20191011_1233.02.jpg\")\n",
    "bw = image.convert(\"L\")\n",
    "bwarray = np.array(bw)\n",
    "print(len(np.shape(bwarray)))\n",
    "\n",
    "arrayshape = np.index_exp[270:720, 830:1280]\n",
    "small = bwarray[arrayshape]\n",
    "print(np.shape(small))\n",
    "\n",
    "plt.imshow(small, cmap = \"gray\")\n",
    "print(np.shape(small))"
   ]
  },
  {
   "cell_type": "markdown",
   "id": "07d769e6",
   "metadata": {},
   "source": [
    "## Make practice code into functions"
   ]
  },
  {
   "cell_type": "code",
   "execution_count": null,
   "id": "1586fbd7",
   "metadata": {},
   "outputs": [],
   "source": [
    "year = 2018\n",
    "directory = \"D:/Webcam Images/MI City\"\n",
    "newdir = directory+\"/{}_imgprep\".format(str(year))\n",
    "print (newdir+\"/view1\")\n"
   ]
  },
  {
   "cell_type": "code",
   "execution_count": null,
   "id": "902e5a96",
   "metadata": {},
   "outputs": [],
   "source": []
  },
  {
   "cell_type": "markdown",
   "id": "aaea086b",
   "metadata": {},
   "source": [
    "#### Note: \n",
    "\n",
    "##### Functionality\n",
    "The function below is specifically for the analysis of view \\#2 in MI City. This works with imagery from the old webcam location. It is designed for a proof of concept application of the OWG. This function will need to be adapted or rewritten to deal with contemporary datsets. Also, a record of the inputs to each version should be kept for research/repeatability purposes.\n",
    "\n",
    "##### Next Steps\n",
    "The most important additon that is needed is a way to automate the creation of view folders within the new year_imgprep folder. This could be done by including a list of numbers as strings representing the camera view as an input, or using string parsing and appending the target string-numbers into a list within the function. The latter option is likely best as it requires no additonal inputs be added to the funciton"
   ]
  },
  {
   "cell_type": "code",
   "execution_count": null,
   "id": "08fa1124",
   "metadata": {},
   "outputs": [],
   "source": [
    "m = [1,2,3,4]\n",
    "np.mean(m)"
   ]
  },
  {
   "cell_type": "code",
   "execution_count": null,
   "id": "ec0acfe3",
   "metadata": {},
   "outputs": [],
   "source": [
    "\"OWG\" == \"OWG\""
   ]
  },
  {
   "cell_type": "code",
   "execution_count": null,
   "id": "27d3e825",
   "metadata": {},
   "outputs": [],
   "source": [
    "y =[10]\n",
    "for y in y:\n",
    "    x =5\n",
    "\n",
    "three = [3]\n",
    "\n",
    "for three in three:\n",
    "    print (x)"
   ]
  },
  {
   "cell_type": "markdown",
   "id": "5893fc4f",
   "metadata": {},
   "source": [
    "## Function version 1.5"
   ]
  },
  {
   "cell_type": "code",
   "execution_count": 7,
   "id": "7ffb0ad3",
   "metadata": {},
   "outputs": [
    {
     "ename": "SyntaxError",
     "evalue": "invalid syntax (<ipython-input-7-68508bbe2e65>, line 37)",
     "output_type": "error",
     "traceback": [
      "\u001b[1;36m  File \u001b[1;32m\"<ipython-input-7-68508bbe2e65>\"\u001b[1;36m, line \u001b[1;32m37\u001b[0m\n\u001b[1;33m    if filename[.endswith(\".01.jpg\")]:\u001b[0m\n\u001b[1;37m                ^\u001b[0m\n\u001b[1;31mSyntaxError\u001b[0m\u001b[1;31m:\u001b[0m invalid syntax\n"
     ]
    }
   ],
   "source": [
    "def prepowgimgs(year, directory, arrayshape, resolution, version):\n",
    "    '''Create a new directory of images and prepare them for further data filtering. version 1.5\n",
    "    Year is the target year of images, \n",
    "    directory is where the year files are stored,\n",
    "    resolution is the resolutiont the images will be reduced to, \n",
    "    version is the version that these inputs are associate with. A record of this should be kept by hand. \n",
    "    '''\n",
    "    \n",
    "    #set counters \n",
    "    counter = 0\n",
    "    nightcounter = 0\n",
    "    blurcounter = 0\n",
    "    failcounter = 0\n",
    "    \n",
    "    # create a new directory with the called year_imgprep \n",
    "    print(\"Creating folder\")\n",
    "    foldername = \"/{}_imgprep\".format(str(year))\n",
    "    newdir = directory+foldername+\"{}\".format(version)\n",
    "    try:\n",
    "        shutil.rmtree(newdir)\n",
    "        print(\"Folder found: deleting contents\")\n",
    "        os.mkdir(newdir)\n",
    "    except:\n",
    "        os.mkdir(newdir)\n",
    "\n",
    "    # copy files into new directory, this can take a while\n",
    "    print(\"Moving Files\")\n",
    "    copy_tree(directory+\"/{}\".format(str(year)), newdir)\n",
    "    \n",
    "    # seperate the views into different folders within the directory\n",
    "    print(\"Seperating Views\")\n",
    "    view1path = newdir+\"/view1\"\n",
    "    view2path = newdir+\"/view2\"\n",
    "    os.mkdir(view1path)\n",
    "    os.mkdir(view2path)\n",
    "    for filename in os.listdir(newdir):\n",
    "        if filename.endswith(\".01.jpg\"):\n",
    "            os.rename(newdir+\"/{}\".format(filename), view1path+\"/{}\".format(filename.replace(\".01\",\"\")))\n",
    "        elif filename.endswith(\".02.jpg\"):\n",
    "            os.rename(newdir+\"/{}\".format(filename), view2path+\"/{}\".format(filename.replace(\".02\",\"\")))\n",
    "    \n",
    "    # edit images from desired view into cropped lower resolution grayscale and store in new folder\n",
    "    print (\"Editing images for analysis\")\n",
    "    for filename in os.listdir(view2path):\n",
    "        if filename.endswith(\".jpg\"):\n",
    "            image = Image.open(view2path+\"/{}\".format(filename))\n",
    "            \n",
    "            #convert image to grayscale\n",
    "            bw = image.convert(\"L\")\n",
    "            \n",
    "            # select target portion of image to make it square\n",
    "            bwarray = np.array(bw)\n",
    "            small = bwarray[arrayshape]\n",
    "            small_img = Image.fromarray(small)\n",
    "            \n",
    "            # change image resoltuion\n",
    "            resize = (resolution, resolution)\n",
    "            smaller = small_img.resize(resize)\n",
    "            \n",
    "            # Average image intensity\n",
    "            avgintensity = np.mean(plt.imread(smaller))\n",
    "                                   \n",
    "            # Image Sharpness\n",
    "            sharpness, contrast = estimate_sharpness(plt.imread(smaller))\n",
    "        \n",
    "            # if avg image intensity is below 40 (meaning it was taken at night) toss out image\n",
    "            if avgintensity < 40:\n",
    "                nightcounter = nightcounter + 1\n",
    "        \n",
    "            # if image sharpness is less than 3.5 (the mean of sharpness for all images in 2017) toss out imaage\n",
    "            elif sharpness < 3.5:\n",
    "                blurcounter = blurcounter + 1\n",
    "            \n",
    "            else:\n",
    "                # save images ready for interpolation and filtering as the same name sans underscore seperating date and time\n",
    "                try:\n",
    "                    smaller = smaller.save(view2path+\"/\"+filename)\n",
    "                except IOError:\n",
    "                    print(\"cannot create image for\", filename)\n",
    "                    failcounter = failcounter + 1\n",
    "            \n",
    "            # remove the underscore in the filename\n",
    "            os.rename(view2path+\"/\"+filename, view2path+\"/\"+filename.replace(\"_\",\"\"))\n",
    "                \n",
    "                \n",
    "    print (failcounter, \"files in folder could not be processed: IOError\")\n",
    "    print(blurcounter, \"images removed from training dataset due to insufficient sharpness score\")\n",
    "    print(nightcounter, \"images removed from training dataset due to inusfficeint intensity score\")\n",
    "    print (nightcounter+blurcounter+failcounter, \"total images removed from training dataset\")\n",
    "    print (counter, \"images moved to OWG training folder\")\n",
    "        \n",
    "    return print (\"Completed.\")"
   ]
  },
  {
   "cell_type": "markdown",
   "id": "ef610246",
   "metadata": {},
   "source": [
    "## Function version 2.0"
   ]
  },
  {
   "cell_type": "code",
   "execution_count": 86,
   "id": "39477abf",
   "metadata": {},
   "outputs": [],
   "source": [
    "def prepowgimgs(year, directory, arrayshape, resolution, trial, viewlist):\n",
    "    '''Create a new directory for images in each view and run QC and primary augmentation before interpolation and then model \n",
    "    training, validation, or testing. version 2.0\n",
    "    \n",
    "    Year is the target year of images, \n",
    "    directory is where the year files are stored,\n",
    "    resolution is the resolutiont the images will be reduced to, \n",
    "    trial is the name of the trial that these inputs are associate with. A record of trial details should be kept by hand and stored\n",
    "    in C:/njc/src/SSF/OWG/OWG_records/trial. \n",
    "    viewlist is a list of the view numbers found in the target year folder\n",
    "    '''\n",
    "    start = time.time()\n",
    "    #set counters \n",
    "    counter = 0\n",
    "    nightcounter = 0\n",
    "    blurcounter = 0\n",
    "    failcounter = 0\n",
    "    \n",
    "    # create a new directory with the called year_imgprep \n",
    "    foldername = \"/{}_imgprep\".format(str(year))\n",
    "    newdir = directory+foldername+\"{}\".format(trial)\n",
    "    try:\n",
    "        shutil.rmtree(newdir)\n",
    "        print(\"Folder found: deleting contents\")\n",
    "        print(\"Creating folder\")\n",
    "        os.mkdir(newdir)\n",
    "    except:\n",
    "        print(\"Creating folder\")\n",
    "        os.mkdir(newdir)\n",
    "\n",
    "    # copy files into new directory, this can take a while\n",
    "    print(\"Moving Files\")\n",
    "    copy_tree(directory+\"/{}\".format(str(year)), newdir)\n",
    "    \n",
    "    # seperate the views into different folders within the directory\n",
    "    viewdirs = []\n",
    "    for view in viewlist:\n",
    "        print(\"Seperating View {}\".format(view))\n",
    "        viewpath = newdir+\"/view{}\".format(view)\n",
    "        viewdirs.append(viewpath)\n",
    "        os.mkdir(viewpath) \n",
    "    \n",
    "    \n",
    "    for viewpath in viewdirs:\n",
    "        print (\"Moving images to {}\".format(viewpath))\n",
    "        # move images into views\n",
    "        for filename in os.listdir(newdir):\n",
    "            if filename[-5] == viewpath[-1]:\n",
    "                os.rename(newdir+\"/{}\".format(filename), viewpath+\"/{}\".format(filename.replace(filename[13:16],\"\")))   \n",
    "        \n",
    "        # edit images from desired view into cropped lower resolution grayscale and store in new folder\n",
    "        print (\"Augmenting and filtering imgaes in {}\".format(viewpath))\n",
    "        for filename in os.listdir(viewpath):\n",
    "            if filename.endswith(\".jpg\"):\n",
    "                image = Image.open(viewpath+\"/{}\".format(filename)).convert(\"L\")\n",
    "            \n",
    "                # select target portion of image to make it square\n",
    "                bwarray = np.array(image) \n",
    "                small = bwarray[arrayshape]\n",
    "                \n",
    "                # change image resoltuion\n",
    "                img = Image.fromarray(small)\n",
    "                resize = (resolution, resolution)\n",
    "                smaller = img.resize(resize)\n",
    "               \n",
    "                #Get QC metrics\n",
    "                sharpness = estimate_sharpness(np.asarray(smaller))\n",
    "                avgintensity = np.mean(np.asarray(smaller))\n",
    "                \n",
    "                # perform QC\n",
    "                if sharpness < 3.5 or avgintensity < 85:\n",
    "                    os.remove(viewpath+\"/\"+filename)\n",
    "                    failcounter = failcounter + 1\n",
    "                else:\n",
    "                    # save images to OWG directory\n",
    "                    try:\n",
    "                        counter = counter + 1\n",
    "                        owgimage = smaller.save(viewpath+\"/{}\".format(filename))\n",
    "                    except IOError:\n",
    "                        print(\"cannot create image for\", filename)\n",
    "                        failcounter = failcounter + 1\n",
    "        \n",
    "                    # remove the underscore in the filename\n",
    "                    os.rename(viewpath+\"/\"+filename, viewpath+\"/\"+filename.replace(\"_\",\"\"))\n",
    "                    \n",
    "    print (failcounter, \"images removed for quality control\")\n",
    "    print (counter, \"images processed\")\n",
    "    end = time.time()   \n",
    "    return print (\"Completed in {} minutes.\".format((end - start)/60))"
   ]
  },
  {
   "cell_type": "markdown",
   "id": "e5c283c4",
   "metadata": {},
   "source": [
    "#### Test function version 2.0"
   ]
  },
  {
   "cell_type": "code",
   "execution_count": 88,
   "id": "dffdc780",
   "metadata": {
    "scrolled": true
   },
   "outputs": [
    {
     "name": "stdout",
     "output_type": "stream",
     "text": [
      "Folder found: deleting contents\n",
      "Creating folder\n",
      "Moving Files\n",
      "Seperating View 1\n",
      "Seperating View 2\n",
      "Moving images to C:/njc/src/mcyimgs/2017_imgpreptest/view1\n",
      "Augmenting and filtering imgaes in C:/njc/src/mcyimgs/2017_imgpreptest/view1\n",
      "Moving images to C:/njc/src/mcyimgs/2017_imgpreptest/view2\n",
      "Augmenting and filtering imgaes in C:/njc/src/mcyimgs/2017_imgpreptest/view2\n",
      "5311 images removed for quality control\n",
      "2098 images processed\n",
      "Completed in 2.888287130991618 minutes.\n"
     ]
    }
   ],
   "source": [
    "year = 2017\n",
    "directory = \"C:/njc/src/mcyimgs\"\n",
    "arrayshape = np.index_exp[100:700, 680:1280]\n",
    "resolution = 512\n",
    "trial = 'test'\n",
    "viewlist = [1,2]\n",
    "prepowgimgs(year, directory, arrayshape, resolution, trial, viewlist)"
   ]
  },
  {
   "cell_type": "code",
   "execution_count": 85,
   "id": "ca9c0e32",
   "metadata": {},
   "outputs": [
    {
     "name": "stdout",
     "output_type": "stream",
     "text": [
      "4.4613019021897555\n",
      "84.11062240600586\n"
     ]
    }
   ],
   "source": [
    "photo = \"C:/njc/src/mcyimgs/2017_imgpreptest/view2/201712271234.jpg\"\n",
    "pic = plt.imread(photo)\n",
    "print (estimate_sharpness(pic))\n",
    "print(np.mean(pic))"
   ]
  },
  {
   "cell_type": "code",
   "execution_count": null,
   "id": "f8af36e3",
   "metadata": {},
   "outputs": [],
   "source": [
    "x = plt.imread(\"C:/njc/src/mcyimgs/2017_imgpreptest/view2/201712270033.jpg\")\n",
    "y = np.asarray(x)\n",
    "z = np.mean(y)\n",
    "print (z)"
   ]
  },
  {
   "cell_type": "code",
   "execution_count": null,
   "id": "ff152e1c",
   "metadata": {},
   "outputs": [],
   "source": []
  },
  {
   "cell_type": "markdown",
   "id": "3d17b63b",
   "metadata": {},
   "source": [
    "## Move October images into a seperate folder for first analysis"
   ]
  },
  {
   "cell_type": "code",
   "execution_count": null,
   "id": "7af42f63",
   "metadata": {},
   "outputs": [],
   "source": [
    "import os\n",
    "from shutil import copyfile\n",
    "\n",
    "directory = \"D:/Webcam Images/MI City/2017_imgprep/view2/view2OWGimg\"\n",
    "newdir = directory+\"/october2017\"\n",
    "os.mkdir(newdir)\n",
    "\n",
    "for filename in os.listdir(directory):\n",
    "    if filename[4:6] == \"10\":\n",
    "        shutil.copyfile(\"D:/Webcam Images/MI City/2017_imgprep/view2/view2OWGimg\"+\"/\"+filename, newdir+\"/\"+filename)"
   ]
  },
  {
   "cell_type": "markdown",
   "id": "262e4df7",
   "metadata": {},
   "source": [
    "## Create a new folder of training images at a higher resolution"
   ]
  },
  {
   "cell_type": "code",
   "execution_count": null,
   "id": "1a1eacf1",
   "metadata": {
    "scrolled": true
   },
   "outputs": [],
   "source": [
    "year = 2017\n",
    "directory = \"C:/njc/src/mcyimgs\"\n",
    "arrayshape = np.index_exp[100:700, 680:1280]\n",
    "resolution = 256\n",
    "version = 1\n",
    "prepmicityimgs(year, directory, arrayshape, resolution, version)"
   ]
  },
  {
   "cell_type": "code",
   "execution_count": null,
   "id": "6d1b9cff",
   "metadata": {
    "scrolled": true
   },
   "outputs": [],
   "source": [
    "year = 2019\n",
    "directory = \"C:/njc/src/mcyimgs\"\n",
    "arrayshape = np.index_exp[270:720, 830:1280]\n",
    "resolution = 256\n",
    "version = \"test\"\n",
    "prepmicityimgs(year, directory, arrayshape, resolution, version)"
   ]
  },
  {
   "cell_type": "markdown",
   "id": "ec8e0a89",
   "metadata": {},
   "source": [
    "### Make a Fall Data Directory"
   ]
  },
  {
   "cell_type": "code",
   "execution_count": null,
   "id": "b6a1d6e9",
   "metadata": {},
   "outputs": [],
   "source": [
    "directory = \"C:/njc/src/mcyimgs/2019_imgpreptest\"\n",
    "newdir = directory+\"/view2fall\"\n",
    "os.mkdir(newdir)\n",
    "\n",
    "for filename in os.listdir(directory+\"/\"+\"view2\"):\n",
    "    if filename[4:6] == \"09\" or filename[4:6] == \"10\":\n",
    "        shutil.copyfile(directory+\"/\"+\"view2\"+\"/\"+filename, newdir+\"/\"+filename)"
   ]
  },
  {
   "cell_type": "markdown",
   "id": "acf38aa6",
   "metadata": {},
   "source": [
    "### Select out random images from a year to use as validation data\n",
    "csv's generated from functions in csv_interpolation notebook"
   ]
  },
  {
   "cell_type": "code",
   "execution_count": 1,
   "id": "ed2ad280",
   "metadata": {},
   "outputs": [],
   "source": [
    "import pandas as pd\n",
    "df = pd.read_csv('C:/njc/src/SSF/OWG/mcyv22017trial3.csv', sep = \",\", index_col=False)\n",
    "df\n",
    "# random sample ~30%\n",
    "dfs = df.sample(n= int(.3*819))\n",
    "dfs.reset_index(drop=True, inplace=True)\n",
    "dfs\n",
    "dfs.to_csv('C:/njc/src/SSF/OWG/mcyv22017(30trial3).csv', sep = \",\")"
   ]
  },
  {
   "cell_type": "markdown",
   "id": "40baa602",
   "metadata": {},
   "source": [
    "### Drop rows of original dataframe if they have been randomly selected for validation\n",
    "this creates the csv file that will be used to train the OWG"
   ]
  },
  {
   "cell_type": "code",
   "execution_count": 2,
   "id": "6d40ba49",
   "metadata": {},
   "outputs": [],
   "source": [
    "# load in the dataframes\n",
    "total = pd.read_csv('C:/njc/src/SSF/OWG/mcyv22017trial3.csv', sep = \",\", index_col=False)\n",
    "validation = pd.read_csv('C:/njc/src/SSF/OWG/mcyv22017(30trial3).csv', sep = \",\", index_col=False)\n",
    "\n",
    "# if the imagename in the total dataframe exists in the validation dataframe do not include it in the train dataframe. \n",
    "# the ~ inverts the boolean indexing, which we need to do because only True values will be kept and they start as False as they are not in the validation dataframe\n",
    "train = total[~total.id.isin(validation.id)]\n",
    "train\n",
    "train.to_csv('C:/njc/src/SSF/OWG/mcyv22017trial3train.csv', sep = \",\")"
   ]
  }
 ],
 "metadata": {
  "kernelspec": {
   "display_name": "Python 3",
   "language": "python",
   "name": "python3"
  },
  "language_info": {
   "codemirror_mode": {
    "name": "ipython",
    "version": 3
   },
   "file_extension": ".py",
   "mimetype": "text/x-python",
   "name": "python",
   "nbconvert_exporter": "python",
   "pygments_lexer": "ipython3",
   "version": "3.9.4"
  }
 },
 "nbformat": 4,
 "nbformat_minor": 5
}
