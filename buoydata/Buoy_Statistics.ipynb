{
 "cells": [
  {
   "cell_type": "markdown",
   "id": "5c4e2d6a",
   "metadata": {},
   "source": [
    "# NDBC Statistics\n",
    "\n",
    "This notebook contains code used to view, manipulate, and analyze buoy data from buoys stationed in the Great Lakes and connected to the NDBC network"
   ]
  },
  {
   "cell_type": "markdown",
   "id": "131d103d",
   "metadata": {},
   "source": [
    "## Initial Workflow\n",
    "Find buoy of interest in [NDCB Map](https://www.ndbc.noaa.gov/) --> In historical data, find the year of interest in the standard meteoroligical data category (note Great Lakes buoys do not collect spectral wave data) --> Save the .txt file and name it using the convention \"exampleplace_year.txt\" --> Load \"exampleplace_year.txt\" into a pandas dataframe --> Change date columns into a datetime object --> Change 99.00 or 999.00 values into NaN --> Drop NaN values and columns that are irrelevant to wave data"
   ]
  },
  {
   "cell_type": "markdown",
   "id": "2e42c4af",
   "metadata": {},
   "source": [
    "### Load data into Pandas"
   ]
  },
  {
   "cell_type": "code",
   "execution_count": 1,
   "id": "49daa525",
   "metadata": {
    "scrolled": false
   },
   "outputs": [
    {
     "data": {
      "text/html": [
       "<div>\n",
       "<style scoped>\n",
       "    .dataframe tbody tr th:only-of-type {\n",
       "        vertical-align: middle;\n",
       "    }\n",
       "\n",
       "    .dataframe tbody tr th {\n",
       "        vertical-align: top;\n",
       "    }\n",
       "\n",
       "    .dataframe thead th {\n",
       "        text-align: right;\n",
       "    }\n",
       "</style>\n",
       "<table border=\"1\" class=\"dataframe\">\n",
       "  <thead>\n",
       "    <tr style=\"text-align: right;\">\n",
       "      <th></th>\n",
       "      <th>date</th>\n",
       "      <th>WDIR</th>\n",
       "      <th>WSPD</th>\n",
       "      <th>GST</th>\n",
       "      <th>WVHT</th>\n",
       "      <th>DPD</th>\n",
       "      <th>APD</th>\n",
       "      <th>MWD</th>\n",
       "      <th>PRES</th>\n",
       "      <th>ATMP</th>\n",
       "      <th>WTMP</th>\n",
       "      <th>DEWP</th>\n",
       "      <th>VIS</th>\n",
       "      <th>TIDE</th>\n",
       "    </tr>\n",
       "  </thead>\n",
       "  <tbody>\n",
       "    <tr>\n",
       "      <th>0</th>\n",
       "      <td>2020 07 30 13 20</td>\n",
       "      <td>55</td>\n",
       "      <td>3.5</td>\n",
       "      <td>4.3</td>\n",
       "      <td>0.14</td>\n",
       "      <td>2.41</td>\n",
       "      <td>99.0</td>\n",
       "      <td>312</td>\n",
       "      <td>1014.7</td>\n",
       "      <td>21.3</td>\n",
       "      <td>23.9</td>\n",
       "      <td>999.0</td>\n",
       "      <td>99.0</td>\n",
       "      <td>99.0</td>\n",
       "    </tr>\n",
       "    <tr>\n",
       "      <th>1</th>\n",
       "      <td>2020 07 30 13 40</td>\n",
       "      <td>52</td>\n",
       "      <td>3.7</td>\n",
       "      <td>4.5</td>\n",
       "      <td>0.12</td>\n",
       "      <td>99.00</td>\n",
       "      <td>99.0</td>\n",
       "      <td>321</td>\n",
       "      <td>1014.7</td>\n",
       "      <td>21.4</td>\n",
       "      <td>24.0</td>\n",
       "      <td>999.0</td>\n",
       "      <td>99.0</td>\n",
       "      <td>99.0</td>\n",
       "    </tr>\n",
       "    <tr>\n",
       "      <th>2</th>\n",
       "      <td>2020 07 30 14 00</td>\n",
       "      <td>47</td>\n",
       "      <td>4.6</td>\n",
       "      <td>6.1</td>\n",
       "      <td>0.14</td>\n",
       "      <td>2.04</td>\n",
       "      <td>99.0</td>\n",
       "      <td>257</td>\n",
       "      <td>1014.7</td>\n",
       "      <td>21.6</td>\n",
       "      <td>24.1</td>\n",
       "      <td>999.0</td>\n",
       "      <td>99.0</td>\n",
       "      <td>99.0</td>\n",
       "    </tr>\n",
       "    <tr>\n",
       "      <th>3</th>\n",
       "      <td>2020 07 30 14 20</td>\n",
       "      <td>47</td>\n",
       "      <td>3.6</td>\n",
       "      <td>5.1</td>\n",
       "      <td>0.15</td>\n",
       "      <td>99.00</td>\n",
       "      <td>99.0</td>\n",
       "      <td>311</td>\n",
       "      <td>1014.8</td>\n",
       "      <td>22.0</td>\n",
       "      <td>24.1</td>\n",
       "      <td>999.0</td>\n",
       "      <td>99.0</td>\n",
       "      <td>99.0</td>\n",
       "    </tr>\n",
       "    <tr>\n",
       "      <th>4</th>\n",
       "      <td>2020 07 30 14 40</td>\n",
       "      <td>53</td>\n",
       "      <td>2.6</td>\n",
       "      <td>3.8</td>\n",
       "      <td>0.14</td>\n",
       "      <td>99.00</td>\n",
       "      <td>99.0</td>\n",
       "      <td>66</td>\n",
       "      <td>1014.7</td>\n",
       "      <td>22.5</td>\n",
       "      <td>24.1</td>\n",
       "      <td>999.0</td>\n",
       "      <td>99.0</td>\n",
       "      <td>99.0</td>\n",
       "    </tr>\n",
       "  </tbody>\n",
       "</table>\n",
       "</div>"
      ],
      "text/plain": [
       "               date  WDIR  WSPD  GST  WVHT    DPD   APD  MWD    PRES  ATMP  \\\n",
       "0  2020 07 30 13 20    55   3.5  4.3  0.14   2.41  99.0  312  1014.7  21.3   \n",
       "1  2020 07 30 13 40    52   3.7  4.5  0.12  99.00  99.0  321  1014.7  21.4   \n",
       "2  2020 07 30 14 00    47   4.6  6.1  0.14   2.04  99.0  257  1014.7  21.6   \n",
       "3  2020 07 30 14 20    47   3.6  5.1  0.15  99.00  99.0  311  1014.8  22.0   \n",
       "4  2020 07 30 14 40    53   2.6  3.8  0.14  99.00  99.0   66  1014.7  22.5   \n",
       "\n",
       "   WTMP   DEWP   VIS  TIDE  \n",
       "0  23.9  999.0  99.0  99.0  \n",
       "1  24.0  999.0  99.0  99.0  \n",
       "2  24.1  999.0  99.0  99.0  \n",
       "3  24.1  999.0  99.0  99.0  \n",
       "4  24.1  999.0  99.0  99.0  "
      ]
     },
     "execution_count": 1,
     "metadata": {},
     "output_type": "execute_result"
    }
   ],
   "source": [
    "import pandas as pd\n",
    "import numpy as np\n",
    "\n",
    "mkg_2020 = pd.read_csv(\"muskegon_2020.txt\", skiprows=range(1,2), delim_whitespace = True, parse_dates={'date':[0,1,2,3,4]}, keep_date_col=False)\n",
    "mkg_2020.head()"
   ]
  },
  {
   "cell_type": "markdown",
   "id": "fce13a1a",
   "metadata": {},
   "source": [
    "### Turn date column into a pandas datetime object"
   ]
  },
  {
   "cell_type": "code",
   "execution_count": 2,
   "id": "dc2f06d0",
   "metadata": {
    "scrolled": true
   },
   "outputs": [
    {
     "data": {
      "text/html": [
       "<div>\n",
       "<style scoped>\n",
       "    .dataframe tbody tr th:only-of-type {\n",
       "        vertical-align: middle;\n",
       "    }\n",
       "\n",
       "    .dataframe tbody tr th {\n",
       "        vertical-align: top;\n",
       "    }\n",
       "\n",
       "    .dataframe thead th {\n",
       "        text-align: right;\n",
       "    }\n",
       "</style>\n",
       "<table border=\"1\" class=\"dataframe\">\n",
       "  <thead>\n",
       "    <tr style=\"text-align: right;\">\n",
       "      <th></th>\n",
       "      <th>date</th>\n",
       "      <th>WDIR</th>\n",
       "      <th>WSPD</th>\n",
       "      <th>GST</th>\n",
       "      <th>WVHT</th>\n",
       "      <th>DPD</th>\n",
       "      <th>APD</th>\n",
       "      <th>MWD</th>\n",
       "      <th>PRES</th>\n",
       "      <th>ATMP</th>\n",
       "      <th>WTMP</th>\n",
       "      <th>DEWP</th>\n",
       "      <th>VIS</th>\n",
       "      <th>TIDE</th>\n",
       "      <th>Timestamp</th>\n",
       "    </tr>\n",
       "  </thead>\n",
       "  <tbody>\n",
       "    <tr>\n",
       "      <th>0</th>\n",
       "      <td>2020 07 30 13 20</td>\n",
       "      <td>55</td>\n",
       "      <td>3.5</td>\n",
       "      <td>4.3</td>\n",
       "      <td>0.14</td>\n",
       "      <td>2.41</td>\n",
       "      <td>99.0</td>\n",
       "      <td>312</td>\n",
       "      <td>1014.7</td>\n",
       "      <td>21.3</td>\n",
       "      <td>23.9</td>\n",
       "      <td>999.0</td>\n",
       "      <td>99.0</td>\n",
       "      <td>99.0</td>\n",
       "      <td>2020-07-30 13:20:00</td>\n",
       "    </tr>\n",
       "    <tr>\n",
       "      <th>1</th>\n",
       "      <td>2020 07 30 13 40</td>\n",
       "      <td>52</td>\n",
       "      <td>3.7</td>\n",
       "      <td>4.5</td>\n",
       "      <td>0.12</td>\n",
       "      <td>99.00</td>\n",
       "      <td>99.0</td>\n",
       "      <td>321</td>\n",
       "      <td>1014.7</td>\n",
       "      <td>21.4</td>\n",
       "      <td>24.0</td>\n",
       "      <td>999.0</td>\n",
       "      <td>99.0</td>\n",
       "      <td>99.0</td>\n",
       "      <td>2020-07-30 13:40:00</td>\n",
       "    </tr>\n",
       "    <tr>\n",
       "      <th>2</th>\n",
       "      <td>2020 07 30 14 00</td>\n",
       "      <td>47</td>\n",
       "      <td>4.6</td>\n",
       "      <td>6.1</td>\n",
       "      <td>0.14</td>\n",
       "      <td>2.04</td>\n",
       "      <td>99.0</td>\n",
       "      <td>257</td>\n",
       "      <td>1014.7</td>\n",
       "      <td>21.6</td>\n",
       "      <td>24.1</td>\n",
       "      <td>999.0</td>\n",
       "      <td>99.0</td>\n",
       "      <td>99.0</td>\n",
       "      <td>2020-07-30 14:00:00</td>\n",
       "    </tr>\n",
       "    <tr>\n",
       "      <th>3</th>\n",
       "      <td>2020 07 30 14 20</td>\n",
       "      <td>47</td>\n",
       "      <td>3.6</td>\n",
       "      <td>5.1</td>\n",
       "      <td>0.15</td>\n",
       "      <td>99.00</td>\n",
       "      <td>99.0</td>\n",
       "      <td>311</td>\n",
       "      <td>1014.8</td>\n",
       "      <td>22.0</td>\n",
       "      <td>24.1</td>\n",
       "      <td>999.0</td>\n",
       "      <td>99.0</td>\n",
       "      <td>99.0</td>\n",
       "      <td>2020-07-30 14:20:00</td>\n",
       "    </tr>\n",
       "    <tr>\n",
       "      <th>4</th>\n",
       "      <td>2020 07 30 14 40</td>\n",
       "      <td>53</td>\n",
       "      <td>2.6</td>\n",
       "      <td>3.8</td>\n",
       "      <td>0.14</td>\n",
       "      <td>99.00</td>\n",
       "      <td>99.0</td>\n",
       "      <td>66</td>\n",
       "      <td>1014.7</td>\n",
       "      <td>22.5</td>\n",
       "      <td>24.1</td>\n",
       "      <td>999.0</td>\n",
       "      <td>99.0</td>\n",
       "      <td>99.0</td>\n",
       "      <td>2020-07-30 14:40:00</td>\n",
       "    </tr>\n",
       "  </tbody>\n",
       "</table>\n",
       "</div>"
      ],
      "text/plain": [
       "               date  WDIR  WSPD  GST  WVHT    DPD   APD  MWD    PRES  ATMP  \\\n",
       "0  2020 07 30 13 20    55   3.5  4.3  0.14   2.41  99.0  312  1014.7  21.3   \n",
       "1  2020 07 30 13 40    52   3.7  4.5  0.12  99.00  99.0  321  1014.7  21.4   \n",
       "2  2020 07 30 14 00    47   4.6  6.1  0.14   2.04  99.0  257  1014.7  21.6   \n",
       "3  2020 07 30 14 20    47   3.6  5.1  0.15  99.00  99.0  311  1014.8  22.0   \n",
       "4  2020 07 30 14 40    53   2.6  3.8  0.14  99.00  99.0   66  1014.7  22.5   \n",
       "\n",
       "   WTMP   DEWP   VIS  TIDE           Timestamp  \n",
       "0  23.9  999.0  99.0  99.0 2020-07-30 13:20:00  \n",
       "1  24.0  999.0  99.0  99.0 2020-07-30 13:40:00  \n",
       "2  24.1  999.0  99.0  99.0 2020-07-30 14:00:00  \n",
       "3  24.1  999.0  99.0  99.0 2020-07-30 14:20:00  \n",
       "4  24.1  999.0  99.0  99.0 2020-07-30 14:40:00  "
      ]
     },
     "execution_count": 2,
     "metadata": {},
     "output_type": "execute_result"
    }
   ],
   "source": [
    "mkg_2020['Timestamp'] = pd.to_datetime(mkg_2020['date'], format = '%Y %m %d %H %M')\n",
    "mkg_2020.head()"
   ]
  },
  {
   "cell_type": "markdown",
   "id": "f5845bb5",
   "metadata": {},
   "source": [
    "### Remove Irrelvant Data\n",
    "The old date column is no longer needed and the only data relevant to me are those that represent direct measurement of waves"
   ]
  },
  {
   "cell_type": "code",
   "execution_count": 3,
   "id": "aa169157",
   "metadata": {},
   "outputs": [
    {
     "data": {
      "text/html": [
       "<div>\n",
       "<style scoped>\n",
       "    .dataframe tbody tr th:only-of-type {\n",
       "        vertical-align: middle;\n",
       "    }\n",
       "\n",
       "    .dataframe tbody tr th {\n",
       "        vertical-align: top;\n",
       "    }\n",
       "\n",
       "    .dataframe thead th {\n",
       "        text-align: right;\n",
       "    }\n",
       "</style>\n",
       "<table border=\"1\" class=\"dataframe\">\n",
       "  <thead>\n",
       "    <tr style=\"text-align: right;\">\n",
       "      <th></th>\n",
       "      <th>WVHT</th>\n",
       "      <th>DPD</th>\n",
       "      <th>MWD</th>\n",
       "      <th>Timestamp</th>\n",
       "    </tr>\n",
       "  </thead>\n",
       "  <tbody>\n",
       "    <tr>\n",
       "      <th>0</th>\n",
       "      <td>0.14</td>\n",
       "      <td>2.41</td>\n",
       "      <td>312.0</td>\n",
       "      <td>2020-07-30 13:20:00</td>\n",
       "    </tr>\n",
       "    <tr>\n",
       "      <th>2</th>\n",
       "      <td>0.14</td>\n",
       "      <td>2.04</td>\n",
       "      <td>257.0</td>\n",
       "      <td>2020-07-30 14:00:00</td>\n",
       "    </tr>\n",
       "    <tr>\n",
       "      <th>5</th>\n",
       "      <td>0.12</td>\n",
       "      <td>2.13</td>\n",
       "      <td>14.0</td>\n",
       "      <td>2020-07-30 15:00:00</td>\n",
       "    </tr>\n",
       "    <tr>\n",
       "      <th>6</th>\n",
       "      <td>0.13</td>\n",
       "      <td>2.09</td>\n",
       "      <td>47.0</td>\n",
       "      <td>2020-07-30 15:20:00</td>\n",
       "    </tr>\n",
       "    <tr>\n",
       "      <th>7</th>\n",
       "      <td>0.12</td>\n",
       "      <td>2.01</td>\n",
       "      <td>263.0</td>\n",
       "      <td>2020-07-30 15:40:00</td>\n",
       "    </tr>\n",
       "  </tbody>\n",
       "</table>\n",
       "</div>"
      ],
      "text/plain": [
       "   WVHT   DPD    MWD           Timestamp\n",
       "0  0.14  2.41  312.0 2020-07-30 13:20:00\n",
       "2  0.14  2.04  257.0 2020-07-30 14:00:00\n",
       "5  0.12  2.13   14.0 2020-07-30 15:00:00\n",
       "6  0.13  2.09   47.0 2020-07-30 15:20:00\n",
       "7  0.12  2.01  263.0 2020-07-30 15:40:00"
      ]
     },
     "execution_count": 3,
     "metadata": {},
     "output_type": "execute_result"
    }
   ],
   "source": [
    "# There must be a more pythonic way to index through these\n",
    "mkgwave2020 = mkg_2020.drop(mkg_2020.columns[[0,1,2,3,6,8,9,10,11,12, 13]], axis = 1) \n",
    "\n",
    "# Remove rows that have no information for either wave height or period\n",
    "mkgwave2020 = mkgwave2020.replace(to_replace = 99.00, value = np.nan)\n",
    "mkgwave2020 = mkgwave2020.dropna() \n",
    "\n",
    "mkgwave2020.head()"
   ]
  },
  {
   "cell_type": "markdown",
   "id": "a927551b",
   "metadata": {},
   "source": [
    "### Plotting wave height and period overtime"
   ]
  },
  {
   "cell_type": "code",
   "execution_count": 4,
   "id": "215d1a4a",
   "metadata": {},
   "outputs": [
    {
     "data": {
      "image/png": "[encoded data removed]",
      "text/plain": [
       "<Figure size 432x288 with 2 Axes>"
      ]
     },
     "metadata": {
      "needs_background": "light"
     },
     "output_type": "display_data"
    }
   ],
   "source": [
    "import matplotlib.pyplot as plt\n",
    "from pandas.plotting import register_matplotlib_converters\n",
    "register_matplotlib_converters()\n",
    "%matplotlib inline\n",
    "\n",
    "fig, ax1 = plt.subplots()\n",
    "\n",
    "color = 'tab:red'\n",
    "ax1.set_xlabel('Date')\n",
    "ax1.set_ylabel('Wave Height (m)')\n",
    "ax1.plot(mkgwave2020['Timestamp'], mkgwave2020['WVHT'].values, color =color)\n",
    "ax1.tick_params(axis = 'y', labelcolor=color)\n",
    "\n",
    "ax2 = ax1.twinx()\n",
    "\n",
    "color = 'tab:blue'\n",
    "ax2.set_ylabel('Wave period (s)', color = color)\n",
    "ax2.plot(mkgwave2020['Timestamp'], mkgwave2020['DPD'].values, color=color)\n",
    "ax2.tick_params(axis='y', labelcolor=color)\n",
    "\n",
    "fig.tight_layout()\n",
    "plt.show()"
   ]
  },
  {
   "cell_type": "markdown",
   "id": "6945f9ab",
   "metadata": {},
   "source": [
    "## Write a function to improve initial workflow\n",
    "Based on the code above, create a function that takes a list of .txt files from a single NDCB buoy and returns a single pandas dataframe of relevant wave data across all years represented. "
   ]
  },
  {
   "cell_type": "code",
   "execution_count": 5,
   "id": "5d772974",
   "metadata": {},
   "outputs": [],
   "source": [
    "#define function\n",
    "def wavetxt2waveframe(txtlist):\n",
    "    '''Takes a list of multiple years of .txt files from a NDCB buoy \n",
    "    standard meteorological data and returns a single pandas dataframe that only contains\n",
    "    wave height, dominant period, wave direction, and a timestamp in the form of a pandas datetime object'''\n",
    "   \n",
    "    # create an empty list that will hold the opened txt files\n",
    "    framelist = []\n",
    "    \n",
    "    # Loop through each txt file and read it into a pandas dataframe\n",
    "    for txt in txtlist:\n",
    "        framelist.append(pd.read_csv(txt, skiprows=range(1,2), delim_whitespace = True, \\\n",
    "                                     parse_dates={'date':[0,1,2,3,4]}, keep_date_col=False))\n",
    "    \n",
    "    # concatenate the dataframes\n",
    "    waveframe = pd.concat(framelist, ignore_index = True)\n",
    "   \n",
    "    # Transfer data in \"date\" column to a column where it is stored as a datetime object\n",
    "    waveframe['Timestamp'] = pd.to_datetime(waveframe['date'], format = '%Y %m %d %H %M')\n",
    "    \n",
    "    \n",
    "    # There must be a more pythonic way to index through these\n",
    "    waveframe = waveframe.drop(waveframe.columns[[0,1,2,3,6,8,9,10,11,12, 13]], axis = 1) \n",
    "\n",
    "    # Remove rows that have no information for either wave height or period\n",
    "    waveframe = waveframe.replace(to_replace = 99.00, value = np.nan)\n",
    "    waveframe = waveframe.dropna() \n",
    "\n",
    "    return waveframe \n",
    "        "
   ]
  },
  {
   "cell_type": "code",
   "execution_count": 6,
   "id": "832eb0e3",
   "metadata": {},
   "outputs": [
    {
     "data": {
      "text/html": [
       "<div>\n",
       "<style scoped>\n",
       "    .dataframe tbody tr th:only-of-type {\n",
       "        vertical-align: middle;\n",
       "    }\n",
       "\n",
       "    .dataframe tbody tr th {\n",
       "        vertical-align: top;\n",
       "    }\n",
       "\n",
       "    .dataframe thead th {\n",
       "        text-align: right;\n",
       "    }\n",
       "</style>\n",
       "<table border=\"1\" class=\"dataframe\">\n",
       "  <thead>\n",
       "    <tr style=\"text-align: right;\">\n",
       "      <th></th>\n",
       "      <th>WVHT</th>\n",
       "      <th>DPD</th>\n",
       "      <th>MWD</th>\n",
       "      <th>Timestamp</th>\n",
       "    </tr>\n",
       "  </thead>\n",
       "  <tbody>\n",
       "    <tr>\n",
       "      <th>0</th>\n",
       "      <td>0.58</td>\n",
       "      <td>2.99</td>\n",
       "      <td>268.0</td>\n",
       "      <td>2015-05-13 17:40:00</td>\n",
       "    </tr>\n",
       "    <tr>\n",
       "      <th>1</th>\n",
       "      <td>0.56</td>\n",
       "      <td>3.01</td>\n",
       "      <td>277.0</td>\n",
       "      <td>2015-05-13 18:00:00</td>\n",
       "    </tr>\n",
       "    <tr>\n",
       "      <th>2</th>\n",
       "      <td>0.53</td>\n",
       "      <td>2.95</td>\n",
       "      <td>273.0</td>\n",
       "      <td>2015-05-13 18:20:00</td>\n",
       "    </tr>\n",
       "    <tr>\n",
       "      <th>3</th>\n",
       "      <td>0.55</td>\n",
       "      <td>2.99</td>\n",
       "      <td>267.0</td>\n",
       "      <td>2015-05-13 18:40:00</td>\n",
       "    </tr>\n",
       "    <tr>\n",
       "      <th>4</th>\n",
       "      <td>0.54</td>\n",
       "      <td>2.89</td>\n",
       "      <td>270.0</td>\n",
       "      <td>2015-05-13 19:00:00</td>\n",
       "    </tr>\n",
       "    <tr>\n",
       "      <th>...</th>\n",
       "      <td>...</td>\n",
       "      <td>...</td>\n",
       "      <td>...</td>\n",
       "      <td>...</td>\n",
       "    </tr>\n",
       "    <tr>\n",
       "      <th>62777</th>\n",
       "      <td>0.71</td>\n",
       "      <td>3.21</td>\n",
       "      <td>317.0</td>\n",
       "      <td>2020-10-26 15:00:00</td>\n",
       "    </tr>\n",
       "    <tr>\n",
       "      <th>62783</th>\n",
       "      <td>0.69</td>\n",
       "      <td>3.08</td>\n",
       "      <td>320.0</td>\n",
       "      <td>2020-10-26 17:00:00</td>\n",
       "    </tr>\n",
       "    <tr>\n",
       "      <th>62789</th>\n",
       "      <td>0.77</td>\n",
       "      <td>3.19</td>\n",
       "      <td>326.0</td>\n",
       "      <td>2020-10-26 19:00:00</td>\n",
       "    </tr>\n",
       "    <tr>\n",
       "      <th>62795</th>\n",
       "      <td>0.71</td>\n",
       "      <td>3.18</td>\n",
       "      <td>327.0</td>\n",
       "      <td>2020-10-26 21:00:00</td>\n",
       "    </tr>\n",
       "    <tr>\n",
       "      <th>62801</th>\n",
       "      <td>0.62</td>\n",
       "      <td>3.09</td>\n",
       "      <td>316.0</td>\n",
       "      <td>2020-10-26 23:00:00</td>\n",
       "    </tr>\n",
       "  </tbody>\n",
       "</table>\n",
       "<p>50314 rows × 4 columns</p>\n",
       "</div>"
      ],
      "text/plain": [
       "       WVHT   DPD    MWD           Timestamp\n",
       "0      0.58  2.99  268.0 2015-05-13 17:40:00\n",
       "1      0.56  3.01  277.0 2015-05-13 18:00:00\n",
       "2      0.53  2.95  273.0 2015-05-13 18:20:00\n",
       "3      0.55  2.99  267.0 2015-05-13 18:40:00\n",
       "4      0.54  2.89  270.0 2015-05-13 19:00:00\n",
       "...     ...   ...    ...                 ...\n",
       "62777  0.71  3.21  317.0 2020-10-26 15:00:00\n",
       "62783  0.69  3.08  320.0 2020-10-26 17:00:00\n",
       "62789  0.77  3.19  326.0 2020-10-26 19:00:00\n",
       "62795  0.71  3.18  327.0 2020-10-26 21:00:00\n",
       "62801  0.62  3.09  316.0 2020-10-26 23:00:00\n",
       "\n",
       "[50314 rows x 4 columns]"
      ]
     },
     "execution_count": 6,
     "metadata": {},
     "output_type": "execute_result"
    }
   ],
   "source": [
    "# test function\n",
    "\n",
    "buoydata = [\"muskegon_2015.txt\", \"muskegon_2016.txt\", \"muskegon_2017.txt\", \"muskegon_2018.txt\", \\\n",
    "           \"muskegon_2019.txt\", \"muskegon_2020.txt\"]\n",
    "\n",
    "mkg_waveframe = wavetxt2waveframe(buoydata)\n",
    "mkg_waveframe"
   ]
  },
  {
   "cell_type": "markdown",
   "id": "e82024e6",
   "metadata": {},
   "source": [
    "## Analyze the Data"
   ]
  },
  {
   "cell_type": "markdown",
   "id": "ff008d87",
   "metadata": {},
   "source": [
    "### Using the mkg_waveframe pandas dataframe, find the month that has the highest average variability in both wave height and period. "
   ]
  },
  {
   "cell_type": "code",
   "execution_count": 7,
   "id": "2a7b274b",
   "metadata": {},
   "outputs": [],
   "source": [
    "# Subset wave data by month \n",
    "\n",
    "aprilwaves = mkg_waveframe[pd.DatetimeIndex(mkg_waveframe['Timestamp']).month == 4]\n",
    "\n",
    "maywaves = mkg_waveframe[pd.DatetimeIndex(mkg_waveframe['Timestamp']).month == 5] \n",
    "\n",
    "junewaves = mkg_waveframe[pd.DatetimeIndex(mkg_waveframe['Timestamp']).month == 6]\n",
    "\n",
    "julywaves = mkg_waveframe[pd.DatetimeIndex(mkg_waveframe['Timestamp']).month == 7]\n",
    "\n",
    "augustwaves = mkg_waveframe[pd.DatetimeIndex(mkg_waveframe['Timestamp']).month == 8]\n",
    "\n",
    "septwaves = mkg_waveframe[pd.DatetimeIndex(mkg_waveframe['Timestamp']).month == 9]\n",
    "\n",
    "octwaves = mkg_waveframe[pd.DatetimeIndex(mkg_waveframe['Timestamp']).month == 10]\n",
    "\n",
    "novwaves = mkg_waveframe[pd.DatetimeIndex(mkg_waveframe['Timestamp']).month == 11]\n"
   ]
  },
  {
   "cell_type": "code",
   "execution_count": 8,
   "id": "0ff42ede",
   "metadata": {
    "scrolled": true
   },
   "outputs": [
    {
     "name": "stdout",
     "output_type": "stream",
     "text": [
      "The month with the most variance in wave height is October\n",
      "The month with the most variance in wave period is October\n"
     ]
    }
   ],
   "source": [
    "months = {\"April\": aprilwaves, \"May\": maywaves, \"June\": junewaves, \"July\": julywaves, \"August\": augustwaves, \\\n",
    "          \"September\": septwaves, \"October\": octwaves, \"November\": novwaves}\n",
    "\n",
    "# create an empty list to hold the wave variance of the dataframes\n",
    "variancewave = []\n",
    "# add wave variance values to the list \n",
    "for key, month in months.items():\n",
    "    variancewave.append(month.var()[0])\n",
    "x = max(variancewave)\n",
    "for key, month in months.items():\n",
    "    if x == month.var()[0]:\n",
    "        print (\"The month with the most variance in wave height is {}\".format(key))\n",
    "\n",
    "varianceperiod = []\n",
    "for key, month in months.items():\n",
    "    varianceperiod.append(month.var()[1])\n",
    "x = max(varianceperiod)\n",
    "for key, month in months.items():\n",
    "    if x == month.var()[1]:\n",
    "        print (\"The month with the most variance in wave period is {}\".format(key))     \n",
    "    "
   ]
  },
  {
   "cell_type": "markdown",
   "id": "23951ae0",
   "metadata": {},
   "source": [
    "### Plot monthly wave height and period"
   ]
  },
  {
   "cell_type": "markdown",
   "id": "2e7dbbff",
   "metadata": {},
   "source": [
    "Since October was the most variable month of the year and the graph above shows an increase with DOY I am going to graph October across years first and see what I get."
   ]
  },
  {
   "cell_type": "code",
   "execution_count": 24,
   "id": "d4cf7fae",
   "metadata": {},
   "outputs": [
    {
     "name": "stderr",
     "output_type": "stream",
     "text": [
      "<ipython-input-24-67d7a2528faa>:2: SettingWithCopyWarning: \n",
      "A value is trying to be set on a copy of a slice from a DataFrame.\n",
      "Try using .loc[row_indexer,col_indexer] = value instead\n",
      "\n",
      "See the caveats in the documentation: https://pandas.pydata.org/pandas-docs/stable/user_guide/indexing.html#returning-a-view-versus-a-copy\n",
      "  octwaves['Year'] = octwaves['Timestamp'].dt.year\n"
     ]
    },
    {
     "data": {
      "image/png": "[encoded data removed]",
      "text/plain": [
       "<Figure size 432x288 with 1 Axes>"
      ]
     },
     "metadata": {
      "needs_background": "light"
     },
     "output_type": "display_data"
    }
   ],
   "source": [
    "# add DOY then subset October data by year\n",
    "octwaves['Year'] = octwaves['Timestamp'].dt.year\n",
    "oct2015 = octwaves[pd.DatetimeIndex(octwaves['Timestamp']).year == 2015]\n",
    "oct2016 = octwaves[pd.DatetimeIndex(octwaves['Timestamp']).year == 2016]\n",
    "oct2017 = octwaves[pd.DatetimeIndex(octwaves['Timestamp']).year == 2017]\n",
    "oct2018 = octwaves[pd.DatetimeIndex(octwaves['Timestamp']).year == 2018]\n",
    "oct2019 = octwaves[pd.DatetimeIndex(octwaves['Timestamp']).year == 2019]\n",
    "oct2020 = octwaves[pd.DatetimeIndex(octwaves['Timestamp']).year == 2020]\n",
    "\n",
    "# plot data\n",
    "plt.plot(oct2015['DOY'], oct2015['WVHT'], color = \"purple\", label = '2015')\n",
    "plt.plot(oct2016['DOY'], oct2016['WVHT'], color = \"red\", label = '2016')\n",
    "plt.plot(oct2018['DOY'], oct2018['WVHT'], color = \"green\", label = '2018')\n",
    "plt.plot(oct2019['DOY'], oct2019['WVHT'], color = \"black\", label = '2019')\n",
    "plt.plot(oct2020['DOY'], oct2020['WVHT'], color = \"brown\",label = '2020')\n",
    "plt.xlabel(\"Day of the Year\")\n",
    "plt.ylabel(\"Significant Wave Height (m)\")\n",
    "plt.title('Wave Height during October')\n",
    "plt.legend()\n",
    "plt.show()"
   ]
  },
  {
   "cell_type": "markdown",
   "id": "62fa5646",
   "metadata": {},
   "source": [
    "Well this is just a hot mess."
   ]
  },
  {
   "cell_type": "markdown",
   "id": "558004c6",
   "metadata": {},
   "source": [
    "### Analysis using numpy arrays"
   ]
  },
  {
   "cell_type": "markdown",
   "id": "9c5dd751",
   "metadata": {},
   "source": [
    "#### Linear Regression\n",
    "Perform, and plot, a simple linear regression between wave period and height to validate the correlation shown in the plot above.  "
   ]
  },
  {
   "cell_type": "code",
   "execution_count": 16,
   "id": "42faea24",
   "metadata": {},
   "outputs": [
    {
     "name": "stdout",
     "output_type": "stream",
     "text": [
      "The slope of the regression line is 1.475961061367295\n",
      "The intercept of the regression line is 2.2318436961981645\n",
      "The rvalue of the regeression line is 0.8714154769929282\n",
      "The pvalue of the regression line is 0.0\n",
      "The standard error of the estimated slope is 0.0037041903646597087\n",
      "The standard error of the estimated of the estimated intercept is 0.002140853511487155\n"
     ]
    },
    {
     "data": {
      "image/png": "[encoded data removed]",
      "text/plain": [
       "<Figure size 432x288 with 1 Axes>"
      ]
     },
     "metadata": {
      "needs_background": "light"
     },
     "output_type": "display_data"
    }
   ],
   "source": [
    "# import scipy library\n",
    "from scipy import stats\n",
    "\n",
    "# add DOY to the dataframe so that time can be used on the x-axis in a human legible way\n",
    "mkg_waveframe['DOY'] = mkg_waveframe['Timestamp'].dt.dayofyear\n",
    "\n",
    "# turn pandas dataframe columns into linear arrays\n",
    "wvht = mkg_waveframe['WVHT'].values\n",
    "dpd = mkg_waveframe['DPD'].values\n",
    "doy = mkg_waveframe['DOY'].values\n",
    "\n",
    "# use the scipy linear regeression function\n",
    "wave_validation = stats.linregress(wvht, dpd)\n",
    "\n",
    "# print results\n",
    "print (\"The slope of the regression line is {}\".format(wave_validation.slope))\n",
    "print (\"The intercept of the regression line is {}\".format(wave_validation.intercept))\n",
    "print (\"The rvalue of the regeression line is {}\".format(wave_validation.rvalue))\n",
    "print (\"The pvalue of the regression line is {}\".format(wave_validation.pvalue))\n",
    "print (\"The standard error of the estimated slope is {}\".format(wave_validation.stderr))\n",
    "print (\"The standard error of the estimated of the estimated intercept is {}\".format(wave_validation.intercept_stderr))\n",
    "\n",
    "# plot results\n",
    "plt.plot(wvht, dpd, 'o', label='original data')\n",
    "plt.plot(wvht, wave_validation.intercept + wave_validation.slope*wvht, 'r', label='fitted line')\n",
    "plt.xlabel(\"Significant Wave Height (m)\")\n",
    "plt.ylabel(\"Dominant Wave Period (s)\")\n",
    "plt.title(\"Wave Height and Period offshore of Muskegon, MI\")\n",
    "\n",
    "plt.legend()\n",
    "plt.show()\n",
    "\n",
    "\n",
    "\n",
    "\n"
   ]
  },
  {
   "cell_type": "code",
   "execution_count": 17,
   "id": "1c693d36",
   "metadata": {},
   "outputs": [
    {
     "data": {
      "image/png": "[encoded data removed]",
      "text/plain": [
       "<Figure size 432x288 with 2 Axes>"
      ]
     },
     "metadata": {
      "needs_background": "light"
     },
     "output_type": "display_data"
    }
   ],
   "source": [
    "fig, ax1 = plt.subplots()\n",
    "\n",
    "color = 'tab:red'\n",
    "ax1.set_xlabel('Day of Year')\n",
    "ax1.set_ylabel('Wave Height (m)')\n",
    "ax1.plot(doy, wvht, color =color)\n",
    "ax1.tick_params(axis = 'y', labelcolor=color)\n",
    "\n",
    "ax2 = ax1.twinx()\n",
    "\n",
    "color = 'tab:blue'\n",
    "ax2.set_ylabel('Wave period (s)', color = color)\n",
    "ax2.plot(doy,dpd, color=color)\n",
    "ax2.tick_params(axis='y', labelcolor=color)\n",
    "\n",
    "fig.tight_layout()\n",
    "plt.show()"
   ]
  },
  {
   "cell_type": "markdown",
   "id": "aee4bd08",
   "metadata": {},
   "source": [
    "This last graph seems to suffer from too much data"
   ]
  }
 ],
 "metadata": {
  "kernelspec": {
   "display_name": "Python 3",
   "language": "python",
   "name": "python3"
  },
  "language_info": {
   "codemirror_mode": {
    "name": "ipython",
    "version": 3
   },
   "file_extension": ".py",
   "mimetype": "text/x-python",
   "name": "python",
   "nbconvert_exporter": "python",
   "pygments_lexer": "ipython3",
   "version": "3.9.4"
  }
 },
 "nbformat": 4,
 "nbformat_minor": 5
}
