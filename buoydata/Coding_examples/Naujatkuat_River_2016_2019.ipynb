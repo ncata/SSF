{
 "cells": [
  {
   "cell_type": "markdown",
   "metadata": {},
   "source": [
    "# NAUJATKUAT RIVER DATA, 2016-2019"
   ]
  },
  {
   "cell_type": "code",
   "execution_count": 4,
   "metadata": {},
   "outputs": [
    {
     "data": {
      "text/html": [
       "<div>\n",
       "<style scoped>\n",
       "    .dataframe tbody tr th:only-of-type {\n",
       "        vertical-align: middle;\n",
       "    }\n",
       "\n",
       "    .dataframe tbody tr th {\n",
       "        vertical-align: top;\n",
       "    }\n",
       "\n",
       "    .dataframe thead th {\n",
       "        text-align: right;\n",
       "    }\n",
       "</style>\n",
       "<table border=\"1\" class=\"dataframe\">\n",
       "  <thead>\n",
       "    <tr style=\"text-align: right;\">\n",
       "      <th></th>\n",
       "      <th>TIMESTAMP</th>\n",
       "      <th>RECORD</th>\n",
       "      <th>BattV_Avg</th>\n",
       "      <th>PTemp_C_Avg</th>\n",
       "      <th>DT_Avg</th>\n",
       "      <th>DT_Max</th>\n",
       "      <th>DT_Min</th>\n",
       "      <th>DT_Std</th>\n",
       "      <th>Q_Avg</th>\n",
       "      <th>TCDT_Avg</th>\n",
       "      <th>BattV</th>\n",
       "      <th>BattVoltBank</th>\n",
       "    </tr>\n",
       "  </thead>\n",
       "  <tbody>\n",
       "    <tr>\n",
       "      <th>0</th>\n",
       "      <td>2016-08-03 07:00:00</td>\n",
       "      <td>0</td>\n",
       "      <td>14.25</td>\n",
       "      <td>16.36</td>\n",
       "      <td>6.449</td>\n",
       "      <td>6.449</td>\n",
       "      <td>6.449</td>\n",
       "      <td>0</td>\n",
       "      <td>189</td>\n",
       "      <td>6.639</td>\n",
       "      <td>14.25</td>\n",
       "      <td>-1.482</td>\n",
       "    </tr>\n",
       "    <tr>\n",
       "      <th>1</th>\n",
       "      <td>2016-08-03 08:00:00</td>\n",
       "      <td>1</td>\n",
       "      <td>14.24</td>\n",
       "      <td>16.32</td>\n",
       "      <td>6.462</td>\n",
       "      <td>6.462</td>\n",
       "      <td>6.462</td>\n",
       "      <td>0</td>\n",
       "      <td>185</td>\n",
       "      <td>6.652</td>\n",
       "      <td>14.24</td>\n",
       "      <td>-2.757</td>\n",
       "    </tr>\n",
       "    <tr>\n",
       "      <th>2</th>\n",
       "      <td>2016-08-03 09:00:00</td>\n",
       "      <td>2</td>\n",
       "      <td>14.27</td>\n",
       "      <td>16.32</td>\n",
       "      <td>6.442</td>\n",
       "      <td>6.442</td>\n",
       "      <td>6.442</td>\n",
       "      <td>0</td>\n",
       "      <td>184</td>\n",
       "      <td>6.632</td>\n",
       "      <td>14.27</td>\n",
       "      <td>-3.862</td>\n",
       "    </tr>\n",
       "    <tr>\n",
       "      <th>3</th>\n",
       "      <td>2016-08-03 10:00:00</td>\n",
       "      <td>3</td>\n",
       "      <td>14.24</td>\n",
       "      <td>16.56</td>\n",
       "      <td>6.399</td>\n",
       "      <td>6.399</td>\n",
       "      <td>6.399</td>\n",
       "      <td>0</td>\n",
       "      <td>187</td>\n",
       "      <td>6.59</td>\n",
       "      <td>14.24</td>\n",
       "      <td>-4.866</td>\n",
       "    </tr>\n",
       "    <tr>\n",
       "      <th>4</th>\n",
       "      <td>2016-08-03 11:00:00</td>\n",
       "      <td>4</td>\n",
       "      <td>14.24</td>\n",
       "      <td>16.66</td>\n",
       "      <td>6.397</td>\n",
       "      <td>6.397</td>\n",
       "      <td>6.397</td>\n",
       "      <td>0</td>\n",
       "      <td>192</td>\n",
       "      <td>6.589</td>\n",
       "      <td>14.24</td>\n",
       "      <td>-5.666</td>\n",
       "    </tr>\n",
       "  </tbody>\n",
       "</table>\n",
       "</div>"
      ],
      "text/plain": [
       "             TIMESTAMP  RECORD  BattV_Avg  PTemp_C_Avg DT_Avg DT_Max DT_Min  \\\n",
       "0  2016-08-03 07:00:00       0      14.25        16.36  6.449  6.449  6.449   \n",
       "1  2016-08-03 08:00:00       1      14.24        16.32  6.462  6.462  6.462   \n",
       "2  2016-08-03 09:00:00       2      14.27        16.32  6.442  6.442  6.442   \n",
       "3  2016-08-03 10:00:00       3      14.24        16.56  6.399  6.399  6.399   \n",
       "4  2016-08-03 11:00:00       4      14.24        16.66  6.397  6.397  6.397   \n",
       "\n",
       "  DT_Std  Q_Avg TCDT_Avg  BattV  BattVoltBank  \n",
       "0      0    189    6.639  14.25        -1.482  \n",
       "1      0    185    6.652  14.24        -2.757  \n",
       "2      0    184    6.632  14.27        -3.862  \n",
       "3      0    187     6.59  14.24        -4.866  \n",
       "4      0    192    6.589  14.24        -5.666  "
      ]
     },
     "execution_count": 4,
     "metadata": {},
     "output_type": "execute_result"
    }
   ],
   "source": [
    "# import the pandas library\n",
    "import pandas as pd\n",
    "import numpy as np\n",
    "\n",
    "# read the file\n",
    "data = pd.read_csv('CR1000_NuukF_2019-07-12T09-10-2.dat')\n",
    "\n",
    "data.head()"
   ]
  },
  {
   "cell_type": "markdown",
   "metadata": {},
   "source": [
    "Print Data Type - it looks like some columns have imported as objects instead of numbers"
   ]
  },
  {
   "cell_type": "code",
   "execution_count": 5,
   "metadata": {
    "scrolled": true
   },
   "outputs": [
    {
     "data": {
      "text/plain": [
       "TIMESTAMP        object\n",
       "RECORD            int64\n",
       "BattV_Avg       float64\n",
       "PTemp_C_Avg     float64\n",
       "DT_Avg           object\n",
       "DT_Max           object\n",
       "DT_Min           object\n",
       "DT_Std           object\n",
       "Q_Avg             int64\n",
       "TCDT_Avg         object\n",
       "BattV           float64\n",
       "BattVoltBank    float64\n",
       "dtype: object"
      ]
     },
     "execution_count": 5,
     "metadata": {},
     "output_type": "execute_result"
    }
   ],
   "source": [
    "data.dtypes"
   ]
  },
  {
   "cell_type": "markdown",
   "metadata": {},
   "source": [
    "Renaming Columns"
   ]
  },
  {
   "cell_type": "code",
   "execution_count": 6,
   "metadata": {
    "scrolled": true
   },
   "outputs": [],
   "source": [
    "new_column_names = ['OldTIMESTAMP', 'RecordNo', 'BattV', 'TEMP_C', 'Stage_mean', 'Stage_max', 'Stage_min', 'Stage_std', 'Avg_Q','TCDT_Avg','BattV','BattVoltBank']"
   ]
  },
  {
   "cell_type": "code",
   "execution_count": 7,
   "metadata": {},
   "outputs": [
    {
     "data": {
      "text/html": [
       "<div>\n",
       "<style scoped>\n",
       "    .dataframe tbody tr th:only-of-type {\n",
       "        vertical-align: middle;\n",
       "    }\n",
       "\n",
       "    .dataframe tbody tr th {\n",
       "        vertical-align: top;\n",
       "    }\n",
       "\n",
       "    .dataframe thead th {\n",
       "        text-align: right;\n",
       "    }\n",
       "</style>\n",
       "<table border=\"1\" class=\"dataframe\">\n",
       "  <thead>\n",
       "    <tr style=\"text-align: right;\">\n",
       "      <th></th>\n",
       "      <th>TCDT_Avg</th>\n",
       "    </tr>\n",
       "  </thead>\n",
       "  <tbody>\n",
       "    <tr>\n",
       "      <th>0</th>\n",
       "      <td>6.639</td>\n",
       "    </tr>\n",
       "    <tr>\n",
       "      <th>1</th>\n",
       "      <td>6.652</td>\n",
       "    </tr>\n",
       "    <tr>\n",
       "      <th>2</th>\n",
       "      <td>6.632</td>\n",
       "    </tr>\n",
       "    <tr>\n",
       "      <th>3</th>\n",
       "      <td>6.59</td>\n",
       "    </tr>\n",
       "    <tr>\n",
       "      <th>4</th>\n",
       "      <td>6.589</td>\n",
       "    </tr>\n",
       "  </tbody>\n",
       "</table>\n",
       "</div>"
      ],
      "text/plain": [
       "  TCDT_Avg\n",
       "0    6.639\n",
       "1    6.652\n",
       "2    6.632\n",
       "3     6.59\n",
       "4    6.589"
      ]
     },
     "execution_count": 7,
     "metadata": {},
     "output_type": "execute_result"
    }
   ],
   "source": [
    "data.columns = new_column_names\n",
    "data[['TCDT_Avg']].head()"
   ]
  },
  {
   "cell_type": "markdown",
   "metadata": {},
   "source": [
    "For some reason, lots of columns ended up as objects. The next cell forces them all to be numbers."
   ]
  },
  {
   "cell_type": "code",
   "execution_count": 8,
   "metadata": {},
   "outputs": [
    {
     "data": {
      "text/plain": [
       "OldTIMESTAMP     object\n",
       "RecordNo          int64\n",
       "BattV           float64\n",
       "TEMP_C          float64\n",
       "Stage_mean      float64\n",
       "Stage_max       float64\n",
       "Stage_min       float64\n",
       "Stage_std       float64\n",
       "Avg_Q           float64\n",
       "TCDT_Avg        float64\n",
       "BattV           float64\n",
       "BattVoltBank    float64\n",
       "dtype: object"
      ]
     },
     "execution_count": 8,
     "metadata": {},
     "output_type": "execute_result"
    }
   ],
   "source": [
    "types_dict = {'TEMP_C': float, 'Stage_mean': float, 'Stage_max': float, 'Stage_min': float, 'Stage_std': float, 'Avg_Q': float,'TCDT_Avg': float,'BattV': float,'BattVoltBank': float}\n",
    "for col, col_type in types_dict.items():\n",
    "    data[col] = data[col].astype(col_type)\n",
    "data.dtypes"
   ]
  },
  {
   "cell_type": "markdown",
   "metadata": {},
   "source": [
    "## Converting to pandas timestamp"
   ]
  },
  {
   "cell_type": "code",
   "execution_count": 9,
   "metadata": {},
   "outputs": [
    {
     "data": {
      "text/html": [
       "<div>\n",
       "<style scoped>\n",
       "    .dataframe tbody tr th:only-of-type {\n",
       "        vertical-align: middle;\n",
       "    }\n",
       "\n",
       "    .dataframe tbody tr th {\n",
       "        vertical-align: top;\n",
       "    }\n",
       "\n",
       "    .dataframe thead th {\n",
       "        text-align: right;\n",
       "    }\n",
       "</style>\n",
       "<table border=\"1\" class=\"dataframe\">\n",
       "  <thead>\n",
       "    <tr style=\"text-align: right;\">\n",
       "      <th></th>\n",
       "      <th>OldTIMESTAMP</th>\n",
       "      <th>RecordNo</th>\n",
       "      <th>BattV</th>\n",
       "      <th>TEMP_C</th>\n",
       "      <th>Stage_mean</th>\n",
       "      <th>Stage_max</th>\n",
       "      <th>Stage_min</th>\n",
       "      <th>Stage_std</th>\n",
       "      <th>Avg_Q</th>\n",
       "      <th>TCDT_Avg</th>\n",
       "      <th>BattV</th>\n",
       "      <th>BattVoltBank</th>\n",
       "      <th>TIMESTAMP</th>\n",
       "    </tr>\n",
       "  </thead>\n",
       "  <tbody>\n",
       "    <tr>\n",
       "      <th>0</th>\n",
       "      <td>2016-08-03 07:00:00</td>\n",
       "      <td>0</td>\n",
       "      <td>14.25</td>\n",
       "      <td>16.36</td>\n",
       "      <td>6.449</td>\n",
       "      <td>6.449</td>\n",
       "      <td>6.449</td>\n",
       "      <td>0.0</td>\n",
       "      <td>189.0</td>\n",
       "      <td>6.639</td>\n",
       "      <td>14.25</td>\n",
       "      <td>-1.482</td>\n",
       "      <td>2016-08-03 07:00:00</td>\n",
       "    </tr>\n",
       "    <tr>\n",
       "      <th>1</th>\n",
       "      <td>2016-08-03 08:00:00</td>\n",
       "      <td>1</td>\n",
       "      <td>14.24</td>\n",
       "      <td>16.32</td>\n",
       "      <td>6.462</td>\n",
       "      <td>6.462</td>\n",
       "      <td>6.462</td>\n",
       "      <td>0.0</td>\n",
       "      <td>185.0</td>\n",
       "      <td>6.652</td>\n",
       "      <td>14.24</td>\n",
       "      <td>-2.757</td>\n",
       "      <td>2016-08-03 08:00:00</td>\n",
       "    </tr>\n",
       "    <tr>\n",
       "      <th>2</th>\n",
       "      <td>2016-08-03 09:00:00</td>\n",
       "      <td>2</td>\n",
       "      <td>14.27</td>\n",
       "      <td>16.32</td>\n",
       "      <td>6.442</td>\n",
       "      <td>6.442</td>\n",
       "      <td>6.442</td>\n",
       "      <td>0.0</td>\n",
       "      <td>184.0</td>\n",
       "      <td>6.632</td>\n",
       "      <td>14.27</td>\n",
       "      <td>-3.862</td>\n",
       "      <td>2016-08-03 09:00:00</td>\n",
       "    </tr>\n",
       "    <tr>\n",
       "      <th>3</th>\n",
       "      <td>2016-08-03 10:00:00</td>\n",
       "      <td>3</td>\n",
       "      <td>14.24</td>\n",
       "      <td>16.56</td>\n",
       "      <td>6.399</td>\n",
       "      <td>6.399</td>\n",
       "      <td>6.399</td>\n",
       "      <td>0.0</td>\n",
       "      <td>187.0</td>\n",
       "      <td>6.590</td>\n",
       "      <td>14.24</td>\n",
       "      <td>-4.866</td>\n",
       "      <td>2016-08-03 10:00:00</td>\n",
       "    </tr>\n",
       "    <tr>\n",
       "      <th>4</th>\n",
       "      <td>2016-08-03 11:00:00</td>\n",
       "      <td>4</td>\n",
       "      <td>14.24</td>\n",
       "      <td>16.66</td>\n",
       "      <td>6.397</td>\n",
       "      <td>6.397</td>\n",
       "      <td>6.397</td>\n",
       "      <td>0.0</td>\n",
       "      <td>192.0</td>\n",
       "      <td>6.589</td>\n",
       "      <td>14.24</td>\n",
       "      <td>-5.666</td>\n",
       "      <td>2016-08-03 11:00:00</td>\n",
       "    </tr>\n",
       "  </tbody>\n",
       "</table>\n",
       "</div>"
      ],
      "text/plain": [
       "          OldTIMESTAMP  RecordNo  BattV  TEMP_C  Stage_mean  Stage_max  \\\n",
       "0  2016-08-03 07:00:00         0  14.25   16.36       6.449      6.449   \n",
       "1  2016-08-03 08:00:00         1  14.24   16.32       6.462      6.462   \n",
       "2  2016-08-03 09:00:00         2  14.27   16.32       6.442      6.442   \n",
       "3  2016-08-03 10:00:00         3  14.24   16.56       6.399      6.399   \n",
       "4  2016-08-03 11:00:00         4  14.24   16.66       6.397      6.397   \n",
       "\n",
       "   Stage_min  Stage_std  Avg_Q  TCDT_Avg  BattV  BattVoltBank  \\\n",
       "0      6.449        0.0  189.0     6.639  14.25        -1.482   \n",
       "1      6.462        0.0  185.0     6.652  14.24        -2.757   \n",
       "2      6.442        0.0  184.0     6.632  14.27        -3.862   \n",
       "3      6.399        0.0  187.0     6.590  14.24        -4.866   \n",
       "4      6.397        0.0  192.0     6.589  14.24        -5.666   \n",
       "\n",
       "            TIMESTAMP  \n",
       "0 2016-08-03 07:00:00  \n",
       "1 2016-08-03 08:00:00  \n",
       "2 2016-08-03 09:00:00  \n",
       "3 2016-08-03 10:00:00  \n",
       "4 2016-08-03 11:00:00  "
      ]
     },
     "execution_count": 9,
     "metadata": {},
     "output_type": "execute_result"
    }
   ],
   "source": [
    "data['TIMESTAMP'] = pd.to_datetime(data['OldTIMESTAMP'])\n",
    "data.head()"
   ]
  },
  {
   "cell_type": "markdown",
   "metadata": {},
   "source": [
    "## Creating a data subset for Timestamp versus TCDT"
   ]
  },
  {
   "cell_type": "code",
   "execution_count": 10,
   "metadata": {},
   "outputs": [
    {
     "data": {
      "text/html": [
       "<div>\n",
       "<style scoped>\n",
       "    .dataframe tbody tr th:only-of-type {\n",
       "        vertical-align: middle;\n",
       "    }\n",
       "\n",
       "    .dataframe tbody tr th {\n",
       "        vertical-align: top;\n",
       "    }\n",
       "\n",
       "    .dataframe thead th {\n",
       "        text-align: right;\n",
       "    }\n",
       "</style>\n",
       "<table border=\"1\" class=\"dataframe\">\n",
       "  <thead>\n",
       "    <tr style=\"text-align: right;\">\n",
       "      <th></th>\n",
       "      <th>TIMESTAMP</th>\n",
       "      <th>TCDT_Avg</th>\n",
       "    </tr>\n",
       "  </thead>\n",
       "  <tbody>\n",
       "    <tr>\n",
       "      <th>0</th>\n",
       "      <td>2016-08-03 07:00:00</td>\n",
       "      <td>6.639</td>\n",
       "    </tr>\n",
       "    <tr>\n",
       "      <th>1</th>\n",
       "      <td>2016-08-03 08:00:00</td>\n",
       "      <td>6.652</td>\n",
       "    </tr>\n",
       "    <tr>\n",
       "      <th>2</th>\n",
       "      <td>2016-08-03 09:00:00</td>\n",
       "      <td>6.632</td>\n",
       "    </tr>\n",
       "    <tr>\n",
       "      <th>3</th>\n",
       "      <td>2016-08-03 10:00:00</td>\n",
       "      <td>6.590</td>\n",
       "    </tr>\n",
       "    <tr>\n",
       "      <th>4</th>\n",
       "      <td>2016-08-03 11:00:00</td>\n",
       "      <td>6.589</td>\n",
       "    </tr>\n",
       "  </tbody>\n",
       "</table>\n",
       "</div>"
      ],
      "text/plain": [
       "            TIMESTAMP  TCDT_Avg\n",
       "0 2016-08-03 07:00:00     6.639\n",
       "1 2016-08-03 08:00:00     6.652\n",
       "2 2016-08-03 09:00:00     6.632\n",
       "3 2016-08-03 10:00:00     6.590\n",
       "4 2016-08-03 11:00:00     6.589"
      ]
     },
     "execution_count": 10,
     "metadata": {},
     "output_type": "execute_result"
    }
   ],
   "source": [
    "stage_data = data[['TIMESTAMP', 'TCDT_Avg']].copy()\n",
    "stage_data.head()"
   ]
  },
  {
   "cell_type": "markdown",
   "metadata": {},
   "source": [
    "## Creating Stage Plot"
   ]
  },
  {
   "cell_type": "code",
   "execution_count": 11,
   "metadata": {},
   "outputs": [
    {
     "name": "stdout",
     "output_type": "stream",
     "text": [
      "0.0 13.04\n",
      "(25735,)\n",
      "nan\n"
     ]
    },
    {
     "data": {
      "image/png": "[encoded data removed]",
      "text/plain": [
       "<Figure size 432x288 with 1 Axes>"
      ]
     },
     "metadata": {
      "needs_background": "light"
     },
     "output_type": "display_data"
    }
   ],
   "source": [
    "import matplotlib.pyplot as plt\n",
    "from pandas.plotting import register_matplotlib_converters \n",
    "register_matplotlib_converters()\n",
    "%matplotlib inline\n",
    "\n",
    "ts = stage_data['TIMESTAMP'].values\n",
    "tcdt = np.array(stage_data['TCDT_Avg'].values)\n",
    "print(np.nanmin(tcdt),np.nanmax(tcdt))\n",
    "print(np.shape(tcdt))\n",
    "plt.plot(tcdt)\n",
    "plt.title('Naujatkuat River Station ')\n",
    "print(np.median(tcdt))"
   ]
  },
  {
   "cell_type": "code",
   "execution_count": 12,
   "metadata": {},
   "outputs": [
    {
     "data": {
      "text/plain": [
       "<matplotlib.axes._subplots.AxesSubplot at 0x2518f614308>"
      ]
     },
     "execution_count": 12,
     "metadata": {},
     "output_type": "execute_result"
    },
    {
     "data": {
      "image/png": "[encoded data removed]",
      "text/plain": [
       "<Figure size 432x288 with 1 Axes>"
      ]
     },
     "metadata": {
      "needs_background": "light"
     },
     "output_type": "display_data"
    }
   ],
   "source": [
    "data.plot(x='TIMESTAMP', y='TCDT_Avg', title='Naujatkuat River')"
   ]
  },
  {
   "cell_type": "markdown",
   "metadata": {},
   "source": [
    "# Need to replace 0 values\n",
    "You can see from the plot that there are times when the sensor measures 0 for the temperature-corrected distance. Most likely these values are due to a problem? \n",
    "We will replace all 0 values by a so-called NaN value. NaN stands for 'Not a Number'. In computing, NaN, is defined as a numeric data type value representing an undefined or unrepresentable value, especially in floating-point arithmetic. This is really handy because for many purposes calculations can then be done without taking into account the newly assigned NaN values. \n",
    "\n",
    "### But actually...\n",
    "In this data set, it looks like the bad values aren't exactly zero...so we are tossing out everything less than 4.\n"
   ]
  },
  {
   "cell_type": "code",
   "execution_count": 13,
   "metadata": {},
   "outputs": [],
   "source": [
    "import numpy as np\n",
    "\n",
    "stage_data.loc[stage_data['TCDT_Avg'] < 4., 'TCDT_Avg'] = np.nan"
   ]
  },
  {
   "cell_type": "code",
   "execution_count": 14,
   "metadata": {},
   "outputs": [
    {
     "data": {
      "text/plain": [
       "Text(0.5, 1.0, 'Naujatkuat River Station ')"
      ]
     },
     "execution_count": 14,
     "metadata": {},
     "output_type": "execute_result"
    },
    {
     "data": {
      "image/png": "[encoded data removed]",
      "text/plain": [
       "<Figure size 432x288 with 1 Axes>"
      ]
     },
     "metadata": {
      "needs_background": "light"
     },
     "output_type": "display_data"
    }
   ],
   "source": [
    "plt.plot(stage_data['TIMESTAMP'], stage_data['TCDT_Avg'])\n",
    "plt.title('Naujatkuat River Station ')"
   ]
  },
  {
   "cell_type": "markdown",
   "metadata": {},
   "source": [
    "Smooth the plot using the average - this plot averages every 19 hours, not every day"
   ]
  },
  {
   "cell_type": "code",
   "execution_count": 15,
   "metadata": {},
   "outputs": [
    {
     "data": {
      "text/plain": [
       "Text(0.5, 1.0, 'Naujatkuat River Station ')"
      ]
     },
     "execution_count": 15,
     "metadata": {},
     "output_type": "execute_result"
    },
    {
     "data": {
      "image/png": "[encoded data removed]",
      "text/plain": [
       "<Figure size 432x288 with 1 Axes>"
      ]
     },
     "metadata": {
      "needs_background": "light"
     },
     "output_type": "display_data"
    }
   ],
   "source": [
    "from scipy import signal\n",
    "\n",
    "stage_data['TCDT_Avg_Smooth']=signal.medfilt(stage_data['TCDT_Avg'],19)\n",
    "\n",
    "plt.plot(stage_data['TIMESTAMP'], stage_data['TCDT_Avg_Smooth'])\n",
    "plt.title('Naujatkuat River Station ')"
   ]
  },
  {
   "cell_type": "markdown",
   "metadata": {},
   "source": [
    "# Select individual years by interrogating the TIMESTAMP attribute\n"
   ]
  },
  {
   "cell_type": "code",
   "execution_count": 16,
   "metadata": {},
   "outputs": [
    {
     "data": {
      "text/html": [
       "<div>\n",
       "<style scoped>\n",
       "    .dataframe tbody tr th:only-of-type {\n",
       "        vertical-align: middle;\n",
       "    }\n",
       "\n",
       "    .dataframe tbody tr th {\n",
       "        vertical-align: top;\n",
       "    }\n",
       "\n",
       "    .dataframe thead th {\n",
       "        text-align: right;\n",
       "    }\n",
       "</style>\n",
       "<table border=\"1\" class=\"dataframe\">\n",
       "  <thead>\n",
       "    <tr style=\"text-align: right;\">\n",
       "      <th></th>\n",
       "      <th>TIMESTAMP</th>\n",
       "      <th>TCDT_Avg</th>\n",
       "      <th>TCDT_Avg_Smooth</th>\n",
       "      <th>year</th>\n",
       "    </tr>\n",
       "  </thead>\n",
       "  <tbody>\n",
       "    <tr>\n",
       "      <th>0</th>\n",
       "      <td>2016-08-03 07:00:00</td>\n",
       "      <td>6.639</td>\n",
       "      <td>6.440</td>\n",
       "      <td>2016</td>\n",
       "    </tr>\n",
       "    <tr>\n",
       "      <th>1</th>\n",
       "      <td>2016-08-03 08:00:00</td>\n",
       "      <td>6.652</td>\n",
       "      <td>6.479</td>\n",
       "      <td>2016</td>\n",
       "    </tr>\n",
       "    <tr>\n",
       "      <th>2</th>\n",
       "      <td>2016-08-03 09:00:00</td>\n",
       "      <td>6.632</td>\n",
       "      <td>6.488</td>\n",
       "      <td>2016</td>\n",
       "    </tr>\n",
       "    <tr>\n",
       "      <th>3</th>\n",
       "      <td>2016-08-03 10:00:00</td>\n",
       "      <td>6.590</td>\n",
       "      <td>6.547</td>\n",
       "      <td>2016</td>\n",
       "    </tr>\n",
       "    <tr>\n",
       "      <th>4</th>\n",
       "      <td>2016-08-03 11:00:00</td>\n",
       "      <td>6.589</td>\n",
       "      <td>6.580</td>\n",
       "      <td>2016</td>\n",
       "    </tr>\n",
       "  </tbody>\n",
       "</table>\n",
       "</div>"
      ],
      "text/plain": [
       "            TIMESTAMP  TCDT_Avg  TCDT_Avg_Smooth  year\n",
       "0 2016-08-03 07:00:00     6.639            6.440  2016\n",
       "1 2016-08-03 08:00:00     6.652            6.479  2016\n",
       "2 2016-08-03 09:00:00     6.632            6.488  2016\n",
       "3 2016-08-03 10:00:00     6.590            6.547  2016\n",
       "4 2016-08-03 11:00:00     6.589            6.580  2016"
      ]
     },
     "execution_count": 16,
     "metadata": {},
     "output_type": "execute_result"
    }
   ],
   "source": [
    "stage_data['year'] = pd.DatetimeIndex(stage_data['TIMESTAMP']).year\n",
    "stage_data.head()"
   ]
  },
  {
   "cell_type": "code",
   "execution_count": 17,
   "metadata": {},
   "outputs": [
    {
     "data": {
      "text/html": [
       "<div>\n",
       "<style scoped>\n",
       "    .dataframe tbody tr th:only-of-type {\n",
       "        vertical-align: middle;\n",
       "    }\n",
       "\n",
       "    .dataframe tbody tr th {\n",
       "        vertical-align: top;\n",
       "    }\n",
       "\n",
       "    .dataframe thead th {\n",
       "        text-align: right;\n",
       "    }\n",
       "</style>\n",
       "<table border=\"1\" class=\"dataframe\">\n",
       "  <thead>\n",
       "    <tr style=\"text-align: right;\">\n",
       "      <th></th>\n",
       "      <th>TIMESTAMP</th>\n",
       "      <th>TCDT_Avg</th>\n",
       "      <th>TCDT_Avg_Smooth</th>\n",
       "      <th>year</th>\n",
       "      <th>DOY</th>\n",
       "    </tr>\n",
       "  </thead>\n",
       "  <tbody>\n",
       "    <tr>\n",
       "      <th>0</th>\n",
       "      <td>2016-08-03 07:00:00</td>\n",
       "      <td>6.639</td>\n",
       "      <td>6.440</td>\n",
       "      <td>2016</td>\n",
       "      <td>216</td>\n",
       "    </tr>\n",
       "    <tr>\n",
       "      <th>1</th>\n",
       "      <td>2016-08-03 08:00:00</td>\n",
       "      <td>6.652</td>\n",
       "      <td>6.479</td>\n",
       "      <td>2016</td>\n",
       "      <td>216</td>\n",
       "    </tr>\n",
       "    <tr>\n",
       "      <th>2</th>\n",
       "      <td>2016-08-03 09:00:00</td>\n",
       "      <td>6.632</td>\n",
       "      <td>6.488</td>\n",
       "      <td>2016</td>\n",
       "      <td>216</td>\n",
       "    </tr>\n",
       "    <tr>\n",
       "      <th>3</th>\n",
       "      <td>2016-08-03 10:00:00</td>\n",
       "      <td>6.590</td>\n",
       "      <td>6.547</td>\n",
       "      <td>2016</td>\n",
       "      <td>216</td>\n",
       "    </tr>\n",
       "    <tr>\n",
       "      <th>4</th>\n",
       "      <td>2016-08-03 11:00:00</td>\n",
       "      <td>6.589</td>\n",
       "      <td>6.580</td>\n",
       "      <td>2016</td>\n",
       "      <td>216</td>\n",
       "    </tr>\n",
       "  </tbody>\n",
       "</table>\n",
       "</div>"
      ],
      "text/plain": [
       "            TIMESTAMP  TCDT_Avg  TCDT_Avg_Smooth  year  DOY\n",
       "0 2016-08-03 07:00:00     6.639            6.440  2016  216\n",
       "1 2016-08-03 08:00:00     6.652            6.479  2016  216\n",
       "2 2016-08-03 09:00:00     6.632            6.488  2016  216\n",
       "3 2016-08-03 10:00:00     6.590            6.547  2016  216\n",
       "4 2016-08-03 11:00:00     6.589            6.580  2016  216"
      ]
     },
     "execution_count": 17,
     "metadata": {},
     "output_type": "execute_result"
    }
   ],
   "source": [
    "# To get all years plotted on one x-axis. Need to convert the actual date to 'Day of Year - DOY'\n",
    "\n",
    "stage_data['DOY'] = stage_data['TIMESTAMP'].dt.dayofyear\n",
    "stage_data.head()"
   ]
  },
  {
   "cell_type": "code",
   "execution_count": 18,
   "metadata": {},
   "outputs": [],
   "source": [
    "#subset by year\n",
    "\n",
    "stage_data_2016=stage_data[stage_data.year ==2016]\n",
    "stage_data_2017=stage_data[stage_data.year ==2017]\n",
    "stage_data_2018=stage_data[stage_data.year ==2018]\n",
    "stage_data_2019=stage_data[stage_data.year ==2019]"
   ]
  },
  {
   "cell_type": "code",
   "execution_count": 19,
   "metadata": {},
   "outputs": [
    {
     "data": {
      "text/html": [
       "<div>\n",
       "<style scoped>\n",
       "    .dataframe tbody tr th:only-of-type {\n",
       "        vertical-align: middle;\n",
       "    }\n",
       "\n",
       "    .dataframe tbody tr th {\n",
       "        vertical-align: top;\n",
       "    }\n",
       "\n",
       "    .dataframe thead th {\n",
       "        text-align: right;\n",
       "    }\n",
       "</style>\n",
       "<table border=\"1\" class=\"dataframe\">\n",
       "  <thead>\n",
       "    <tr style=\"text-align: right;\">\n",
       "      <th></th>\n",
       "      <th>TIMESTAMP</th>\n",
       "      <th>TCDT_Avg</th>\n",
       "      <th>TCDT_Avg_Smooth</th>\n",
       "      <th>year</th>\n",
       "      <th>DOY</th>\n",
       "    </tr>\n",
       "  </thead>\n",
       "  <tbody>\n",
       "    <tr>\n",
       "      <th>6483</th>\n",
       "      <td>2017-05-01 00:00:00</td>\n",
       "      <td>12.09</td>\n",
       "      <td>12.07</td>\n",
       "      <td>2017</td>\n",
       "      <td>121</td>\n",
       "    </tr>\n",
       "    <tr>\n",
       "      <th>6484</th>\n",
       "      <td>2017-05-01 01:00:00</td>\n",
       "      <td>12.08</td>\n",
       "      <td>12.07</td>\n",
       "      <td>2017</td>\n",
       "      <td>121</td>\n",
       "    </tr>\n",
       "    <tr>\n",
       "      <th>6485</th>\n",
       "      <td>2017-05-01 02:00:00</td>\n",
       "      <td>12.08</td>\n",
       "      <td>12.07</td>\n",
       "      <td>2017</td>\n",
       "      <td>121</td>\n",
       "    </tr>\n",
       "    <tr>\n",
       "      <th>6486</th>\n",
       "      <td>2017-05-01 03:00:00</td>\n",
       "      <td>12.07</td>\n",
       "      <td>12.07</td>\n",
       "      <td>2017</td>\n",
       "      <td>121</td>\n",
       "    </tr>\n",
       "    <tr>\n",
       "      <th>6487</th>\n",
       "      <td>2017-05-01 04:00:00</td>\n",
       "      <td>12.06</td>\n",
       "      <td>12.06</td>\n",
       "      <td>2017</td>\n",
       "      <td>121</td>\n",
       "    </tr>\n",
       "  </tbody>\n",
       "</table>\n",
       "</div>"
      ],
      "text/plain": [
       "               TIMESTAMP  TCDT_Avg  TCDT_Avg_Smooth  year  DOY\n",
       "6483 2017-05-01 00:00:00     12.09            12.07  2017  121\n",
       "6484 2017-05-01 01:00:00     12.08            12.07  2017  121\n",
       "6485 2017-05-01 02:00:00     12.08            12.07  2017  121\n",
       "6486 2017-05-01 03:00:00     12.07            12.07  2017  121\n",
       "6487 2017-05-01 04:00:00     12.06            12.06  2017  121"
      ]
     },
     "execution_count": 19,
     "metadata": {},
     "output_type": "execute_result"
    }
   ],
   "source": [
    "#begin subsetting for may 1 - oct 15\n",
    "#2016 is a leap year, so the DOY is different\n",
    "\n",
    "mask2016=(stage_data['DOY'] >= 122)&(stage_data['DOY'] <= 289)\n",
    "maskother=(stage_data['DOY'] >= 121)&(stage_data['DOY'] <= 288)\n",
    "\n",
    "sd_summer_2016=stage_data_2016.loc[mask2016]\n",
    "sd_summer_2017=stage_data_2017.loc[maskother]\n",
    "sd_summer_2018=stage_data_2018.loc[maskother]\n",
    "sd_summer_2019=stage_data_2019.loc[maskother]\n",
    "\n",
    "sd_summer_2017.head()"
   ]
  },
  {
   "cell_type": "code",
   "execution_count": 20,
   "metadata": {
    "scrolled": true
   },
   "outputs": [
    {
     "data": {
      "image/png": "[encoded data removed]",
      "text/plain": [
       "<Figure size 432x288 with 1 Axes>"
      ]
     },
     "metadata": {
      "needs_background": "light"
     },
     "output_type": "display_data"
    }
   ],
   "source": [
    "plt.plot(sd_summer_2016['DOY'], sd_summer_2016['TCDT_Avg'], color='black')\n",
    "plt.plot(sd_summer_2017['DOY'], sd_summer_2017['TCDT_Avg'], color='blue')\n",
    "plt.plot(sd_summer_2018['DOY'], sd_summer_2018['TCDT_Avg'], color='red')\n",
    "plt.plot(sd_summer_2019['DOY'], sd_summer_2019['TCDT_Avg'], color='green')\n",
    "\n",
    "plt.title('Naujatkuat River Station, Summers of 2016-2019')\n",
    "plt.gca().invert_yaxis()\n",
    "plt.show()"
   ]
  },
  {
   "cell_type": "markdown",
   "metadata": {},
   "source": [
    "## Creating Daily Means"
   ]
  },
  {
   "cell_type": "code",
   "execution_count": 29,
   "metadata": {},
   "outputs": [
    {
     "data": {
      "text/html": [
       "<div>\n",
       "<style scoped>\n",
       "    .dataframe tbody tr th:only-of-type {\n",
       "        vertical-align: middle;\n",
       "    }\n",
       "\n",
       "    .dataframe tbody tr th {\n",
       "        vertical-align: top;\n",
       "    }\n",
       "\n",
       "    .dataframe thead th {\n",
       "        text-align: right;\n",
       "    }\n",
       "</style>\n",
       "<table border=\"1\" class=\"dataframe\">\n",
       "  <thead>\n",
       "    <tr style=\"text-align: right;\">\n",
       "      <th></th>\n",
       "      <th>TCDT_Avg</th>\n",
       "      <th>TCDT_Avg_Smooth</th>\n",
       "      <th>year</th>\n",
       "      <th>DOY</th>\n",
       "    </tr>\n",
       "    <tr>\n",
       "      <th>TIMESTAMP</th>\n",
       "      <th></th>\n",
       "      <th></th>\n",
       "      <th></th>\n",
       "      <th></th>\n",
       "    </tr>\n",
       "  </thead>\n",
       "  <tbody>\n",
       "    <tr>\n",
       "      <th>2016-08-03</th>\n",
       "      <td>6.565455</td>\n",
       "      <td>6.569417</td>\n",
       "      <td>2016</td>\n",
       "      <td>216</td>\n",
       "    </tr>\n",
       "    <tr>\n",
       "      <th>2016-08-04</th>\n",
       "      <td>6.854917</td>\n",
       "      <td>6.850692</td>\n",
       "      <td>2016</td>\n",
       "      <td>217</td>\n",
       "    </tr>\n",
       "    <tr>\n",
       "      <th>2016-08-05</th>\n",
       "      <td>7.033958</td>\n",
       "      <td>7.006167</td>\n",
       "      <td>2016</td>\n",
       "      <td>218</td>\n",
       "    </tr>\n",
       "    <tr>\n",
       "      <th>2016-08-06</th>\n",
       "      <td>7.131417</td>\n",
       "      <td>7.123667</td>\n",
       "      <td>2016</td>\n",
       "      <td>219</td>\n",
       "    </tr>\n",
       "    <tr>\n",
       "      <th>2016-08-07</th>\n",
       "      <td>7.183333</td>\n",
       "      <td>7.167333</td>\n",
       "      <td>2016</td>\n",
       "      <td>220</td>\n",
       "    </tr>\n",
       "    <tr>\n",
       "      <th>...</th>\n",
       "      <td>...</td>\n",
       "      <td>...</td>\n",
       "      <td>...</td>\n",
       "      <td>...</td>\n",
       "    </tr>\n",
       "    <tr>\n",
       "      <th>2016-10-11</th>\n",
       "      <td>11.898750</td>\n",
       "      <td>11.897917</td>\n",
       "      <td>2016</td>\n",
       "      <td>285</td>\n",
       "    </tr>\n",
       "    <tr>\n",
       "      <th>2016-10-12</th>\n",
       "      <td>11.932083</td>\n",
       "      <td>11.953333</td>\n",
       "      <td>2016</td>\n",
       "      <td>286</td>\n",
       "    </tr>\n",
       "    <tr>\n",
       "      <th>2016-10-13</th>\n",
       "      <td>11.976667</td>\n",
       "      <td>11.967083</td>\n",
       "      <td>2016</td>\n",
       "      <td>287</td>\n",
       "    </tr>\n",
       "    <tr>\n",
       "      <th>2016-10-14</th>\n",
       "      <td>11.902917</td>\n",
       "      <td>11.902917</td>\n",
       "      <td>2016</td>\n",
       "      <td>288</td>\n",
       "    </tr>\n",
       "    <tr>\n",
       "      <th>2016-10-15</th>\n",
       "      <td>11.852500</td>\n",
       "      <td>11.856667</td>\n",
       "      <td>2016</td>\n",
       "      <td>289</td>\n",
       "    </tr>\n",
       "  </tbody>\n",
       "</table>\n",
       "<p>74 rows × 4 columns</p>\n",
       "</div>"
      ],
      "text/plain": [
       "             TCDT_Avg  TCDT_Avg_Smooth  year  DOY\n",
       "TIMESTAMP                                        \n",
       "2016-08-03   6.565455         6.569417  2016  216\n",
       "2016-08-04   6.854917         6.850692  2016  217\n",
       "2016-08-05   7.033958         7.006167  2016  218\n",
       "2016-08-06   7.131417         7.123667  2016  219\n",
       "2016-08-07   7.183333         7.167333  2016  220\n",
       "...               ...              ...   ...  ...\n",
       "2016-10-11  11.898750        11.897917  2016  285\n",
       "2016-10-12  11.932083        11.953333  2016  286\n",
       "2016-10-13  11.976667        11.967083  2016  287\n",
       "2016-10-14  11.902917        11.902917  2016  288\n",
       "2016-10-15  11.852500        11.856667  2016  289\n",
       "\n",
       "[74 rows x 4 columns]"
      ]
     },
     "execution_count": 29,
     "metadata": {},
     "output_type": "execute_result"
    }
   ],
   "source": [
    "#avg2016 = sd_summer_2016.resample('DOY', how='mean')\n",
    "\n",
    "#avg2016 = sd_summer_2016.resample('DOY').mean()\n",
    "\n",
    "sd_summer_2016.index = sd_summer_2016['TIMESTAMP']\n",
    "avg2016 = sd_summer_2016.resample('D').mean()\n",
    "avg2016\n"
   ]
  },
  {
   "cell_type": "markdown",
   "metadata": {},
   "source": [
    "## The code quits here for now, delete the following cell to make the seasonal yearly graphs"
   ]
  },
  {
   "cell_type": "code",
   "execution_count": null,
   "metadata": {},
   "outputs": [],
   "source": [
    "import sys\n",
    "sys.exit(\"Error message\")"
   ]
  },
  {
   "cell_type": "markdown",
   "metadata": {},
   "source": [
    "## Begin Plotting Seasonally\n",
    "### 2016"
   ]
  },
  {
   "cell_type": "code",
   "execution_count": null,
   "metadata": {},
   "outputs": [],
   "source": [
    "plt.plot(sd_summer_2016['DOY'], sd_summer_2016['TCDT_Avg'])\n",
    "plt.title('Naujatkuat River Station, 2016')\n",
    "\n",
    "plt.gca().invert_yaxis()"
   ]
  },
  {
   "cell_type": "code",
   "execution_count": null,
   "metadata": {},
   "outputs": [],
   "source": [
    "#Smooth 2016\n",
    "\n",
    "sd_summer_2016['TCDT_2016_Smooth']=signal.medfilt(sd_summer_2016['TCDT_Avg'],19)\n",
    "\n",
    "plt.plot(sd_summer_2016['DOY'], sd_summer_2016['TCDT_2016_Smooth'])\n",
    "plt.title('Naujatkuat River Station, 2016')\n",
    "\n",
    "plt.gca().invert_yaxis()"
   ]
  },
  {
   "cell_type": "markdown",
   "metadata": {},
   "source": [
    "### 2017"
   ]
  },
  {
   "cell_type": "code",
   "execution_count": null,
   "metadata": {},
   "outputs": [],
   "source": [
    "plt.plot(sd_summer_2017['DOY'], sd_summer_2017['TCDT_Avg'])\n",
    "plt.title('Naujatkuat River Station, 2017')\n",
    "\n",
    "plt.gca().invert_yaxis()"
   ]
  },
  {
   "cell_type": "code",
   "execution_count": null,
   "metadata": {},
   "outputs": [],
   "source": [
    "#Smooth 2017\n",
    "\n",
    "sd_summer_2017['TCDT_2017_Smooth']=signal.medfilt(sd_summer_2017['TCDT_Avg'],19)\n",
    "\n",
    "plt.plot(sd_summer_2017['DOY'], sd_summer_2017['TCDT_2017_Smooth'])\n",
    "plt.title('Naujatkuat River Station, 2017')\n",
    "\n",
    "plt.gca().invert_yaxis()"
   ]
  },
  {
   "cell_type": "markdown",
   "metadata": {},
   "source": [
    "### 2018"
   ]
  },
  {
   "cell_type": "code",
   "execution_count": null,
   "metadata": {},
   "outputs": [],
   "source": [
    "plt.plot(sd_summer_2018['DOY'], sd_summer_2018['TCDT_Avg'])\n",
    "plt.title('Naujatkuat River Station, 2018')\n",
    "\n",
    "plt.gca().invert_yaxis()"
   ]
  },
  {
   "cell_type": "code",
   "execution_count": null,
   "metadata": {},
   "outputs": [],
   "source": [
    "#Smooth 2018\n",
    "\n",
    "sd_summer_2018['TCDT_2018_Smooth']=signal.medfilt(sd_summer_2018['TCDT_Avg'],19)\n",
    "\n",
    "plt.plot(sd_summer_2018['DOY'], sd_summer_2018['TCDT_2018_Smooth'])\n",
    "plt.title('Naujatkuat River Station, 2018')\n",
    "\n",
    "plt.gca().invert_yaxis()"
   ]
  },
  {
   "cell_type": "markdown",
   "metadata": {},
   "source": [
    "### 2019"
   ]
  },
  {
   "cell_type": "code",
   "execution_count": null,
   "metadata": {},
   "outputs": [],
   "source": [
    "plt.plot(sd_summer_2019['DOY'], sd_summer_2019['TCDT_Avg'])\n",
    "plt.title('Naujatkuat River Station, 2019')\n",
    "\n",
    "plt.gca().invert_yaxis()"
   ]
  },
  {
   "cell_type": "code",
   "execution_count": null,
   "metadata": {},
   "outputs": [],
   "source": [
    "#Smooth 2019\n",
    "\n",
    "sd_summer_2019['TCDT_2019_Smooth']=signal.medfilt(sd_summer_2019['TCDT_Avg'],19)\n",
    "\n",
    "plt.plot(sd_summer_2019['DOY'], sd_summer_2019['TCDT_2019_Smooth'])\n",
    "plt.title('Naujatkuat River Station, 2019')\n",
    "\n",
    "plt.gca().invert_yaxis()"
   ]
  }
 ],
 "metadata": {
  "kernelspec": {
   "display_name": "Python 3",
   "language": "python",
   "name": "python3"
  },
  "language_info": {
   "codemirror_mode": {
    "name": "ipython",
    "version": 3
   },
   "file_extension": ".py",
   "mimetype": "text/x-python",
   "name": "python",
   "nbconvert_exporter": "python",
   "pygments_lexer": "ipython3",
   "version": "3.9.4"
  }
 },
 "nbformat": 4,
 "nbformat_minor": 2
}
